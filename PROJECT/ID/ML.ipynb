{
 "cells": [
  {
   "attachments": {},
   "cell_type": "markdown",
   "metadata": {},
   "source": [
    "In this file we will tune and build machine learning models from the features selected in feature_selection.ipynb"
   ]
  },
  {
   "attachments": {},
   "cell_type": "markdown",
   "metadata": {},
   "source": [
    "**Importing libraries**"
   ]
  },
  {
   "cell_type": "code",
   "execution_count": 2,
   "metadata": {},
   "outputs": [],
   "source": [
    "import random\n",
    "import os\n",
    "import numpy as np\n",
    "# had to uses pip to install librosa\n",
    "import matplotlib.pyplot as plt\n",
    "from sklearn.ensemble import RandomForestClassifier\n",
    "from sklearn.model_selection import GridSearchCV\n",
    "from sklearn.metrics import accuracy_score, confusion_matrix, classification_report, ConfusionMatrixDisplay\n",
    "from scikitplot.metrics import plot_confusion_matrix \n",
    "from scipy.io import wavfile as wav\n",
    "from librosa.feature import melspectrogram\n",
    "import pickle\n",
    "from tqdm import tqdm\n",
    "import inspect\n",
    "import pandas as pd\n",
    "import re\n",
    "\n",
    "from sklearn.ensemble import RandomForestClassifier, BaggingClassifier, ExtraTreesClassifier, GradientBoostingClassifier, AdaBoostClassifier, HistGradientBoostingClassifier\n",
    "from sklearn.linear_model import LogisticRegression, PassiveAggressiveClassifier, SGDClassifier, RidgeClassifier\n",
    "from sklearn.naive_bayes import GaussianNB\n",
    "from sklearn.neighbors import KNeighborsClassifier, NearestCentroid\n",
    "from sklearn.discriminant_analysis import LinearDiscriminantAnalysis, QuadraticDiscriminantAnalysis\n",
    "from sklearn.svm import SVC, LinearSVC\n",
    "from xgboost import XGBClassifier\n",
    "\n",
    "from sklearn.model_selection import train_test_split"
   ]
  },
  {
   "attachments": {},
   "cell_type": "markdown",
   "metadata": {},
   "source": [
    "Setting path variable:"
   ]
  },
  {
   "cell_type": "code",
   "execution_count": 2,
   "metadata": {},
   "outputs": [
    {
     "name": "stdout",
     "output_type": "stream",
     "text": [
      "c:\\Users\\Emili\\DSIM_project\\ID\\data\\\n"
     ]
    }
   ],
   "source": [
    "path = os.getcwd() + '\\\\data\\\\'\n",
    "print(path)"
   ]
  },
  {
   "attachments": {},
   "cell_type": "markdown",
   "metadata": {},
   "source": [
    "## **Loading data**"
   ]
  },
  {
   "cell_type": "code",
   "execution_count": 3,
   "metadata": {},
   "outputs": [],
   "source": [
    "# Data loader\n",
    "def load_data(feature_extractor, train_size):\n",
    "  \n",
    "  # Note: train size must be the same as in load_data_features that was used in feature_selection.ipynb\n",
    "\n",
    "  X_train = []\n",
    "  y_train = []\n",
    "\n",
    "  X_test = []\n",
    "  y_test = []\n",
    "\n",
    "  random.seed(10) # For reproducibility\n",
    "\n",
    "  random.shuffle(os.listdir(path))\n",
    "  for speaker in os.listdir(path):\n",
    "    tracks = os.listdir(path + speaker)\n",
    "    random.shuffle(tracks) # We don't want the first seconds to systematically\n",
    "                           # be train and the last to be test\n",
    "    track_num = 0\n",
    "    for track in tracks:\n",
    "      track_num = track_num + 1\n",
    "      _, signal = wav.read(path + speaker + '/' + track)\n",
    "\n",
    "      if track_num <=np.floor(train_size*len(tracks)):\n",
    "        X_train.append(feature_extractor(signal))\n",
    "        y_train.append(speaker)\n",
    "      else:\n",
    "        X_test.append(feature_extractor(signal))\n",
    "        y_test.append(speaker)\n",
    "                \n",
    "  eps = 0.001\n",
    "  X_train = np.array(X_train)\n",
    "  X_train_mean = X_train.mean(axis=0)\n",
    "  X_train_std = X_train.std(axis=0)\n",
    "  X_train = (X_train - X_train_mean + eps)/(X_train_std + eps)\n",
    "  X_train = [row for row in X_train]\n",
    "  X_test = [row for row in (np.array(X_test) - X_train_mean + eps)/(X_train_std + eps)]\n",
    "\n",
    "  return X_train, X_test, y_train, y_test\n",
    "\n",
    "def feats_melspec(input, rate = 8000):\n",
    "  input = melspectrogram(y = input*1.0, sr = rate)\n",
    "  output = input.flatten()\n",
    "  return output\n",
    "\n",
    "def zcr (input):\n",
    "  k=0\n",
    "  for i in range(0, len(input)-1):\n",
    "    if input[i]*input[i+1]<0:\n",
    "      k=k+1\n",
    "\n",
    "  return np.array(k, ndmin = 1)\n",
    "\n",
    "def standard_dev(input):\n",
    "    return np.std(input, keepdims=True)\n",
    "  \n",
    "def energy(input):\n",
    "    return np.sum((input*1.0)**2, keepdims=True)\n",
    "  \n",
    "def combo(input):\n",
    "  return np.concatenate((standard_dev(input),energy(input), zcr(input), feats_melspec(input)))"
   ]
  },
  {
   "cell_type": "code",
   "execution_count": 4,
   "metadata": {},
   "outputs": [],
   "source": [
    "X_train, X_test, y_train, y_test = load_data(feature_extractor=combo, train_size=0.8)"
   ]
  },
  {
   "attachments": {},
   "cell_type": "markdown",
   "metadata": {},
   "source": [
    "Saving datasets as pickle files in case we want to re-run stuff without having to load the data again with the previous function"
   ]
  },
  {
   "cell_type": "code",
   "execution_count": 5,
   "metadata": {},
   "outputs": [],
   "source": [
    "def save_as_pickle(file, path):\n",
    "  with open(path, \"wb\") as fp:\n",
    "    pickle.dump(file, fp)\n",
    "    \n",
    "if not os.path.isdir(os.getcwd() + '\\\\train_test_data'):\n",
    "  os.mkdir(os.getcwd() + '\\\\train_test_data')\n",
    "\n",
    "names = ['X_train', 'X_test', 'y_train', 'y_test']\n",
    "i = 0\n",
    "for file in [X_train, X_test, y_train, y_test]:\n",
    "  save_as_pickle(file, os.getcwd() + '\\\\train_test_data\\\\' + names[i] + '.pkl')\n",
    "  i = i + 1"
   ]
  },
  {
   "attachments": {},
   "cell_type": "markdown",
   "metadata": {},
   "source": [
    "This is how they're loaded from the pickle files:"
   ]
  },
  {
   "cell_type": "code",
   "execution_count": 3,
   "metadata": {},
   "outputs": [],
   "source": [
    "with open(os.getcwd() + '\\\\train_test_data\\\\X_train.pkl', \"rb\") as fp:   # Unpickling\n",
    "    X_train = pickle.load(fp)\n",
    "with open(os.getcwd() + '\\\\train_test_data\\\\y_train.pkl', \"rb\") as fp:   # Unpickling\n",
    "    y_train = pickle.load(fp)\n",
    "with open(os.getcwd() + '\\\\train_test_data\\\\X_test.pkl', \"rb\") as fp:   # Unpickling\n",
    "    X_test = pickle.load(fp)\n",
    "with open(os.getcwd() + '\\\\train_test_data\\\\y_test.pkl', \"rb\") as fp:   # Unpickling\n",
    "    y_test = pickle.load(fp)"
   ]
  },
  {
   "attachments": {},
   "cell_type": "markdown",
   "metadata": {},
   "source": [
    "## **Validation on classifier models**\n",
    "We decided to try a few classifiers in the skleqrn library to see which one would be the best for our data. We will use the validation set to see which one is the best and keep the default hyperparameters for now."
   ]
  },
  {
   "cell_type": "code",
   "execution_count": 7,
   "metadata": {},
   "outputs": [],
   "source": [
    "def try_classifiers(X, Y, classifiers, dest_path, random_state, split):\n",
    "    \n",
    "    train_test_acc = {}\n",
    "    \n",
    "    # Splitting the set for validation\n",
    "    X_train, X_val, Y_train, Y_val = train_test_split(X, Y, test_size = split, random_state = random_state)\n",
    "\n",
    "\n",
    "\n",
    "    for classifier in tqdm(classifiers):\n",
    "        \n",
    "        if classifier.__name__ == 'XGBClassifier':\n",
    "            print('data format changed\\n')\n",
    "            X_train = pd.DataFrame(np.row_stack(X_train))\n",
    "            X_val = pd.DataFrame(np.row_stack(X_val))\n",
    "            Y_train = pd.DataFrame(np.row_stack(Y_train))\n",
    "            for i in range(len(Y_train.loc[:,0])):\n",
    "                m = re.search(r'\\d+$', Y_train.loc[i,0])\n",
    "                Y_train.loc[i,0] = int(m.group())-1\n",
    "            Y_train = Y_train.astype('str').astype('int')\n",
    "            Y_val = pd.DataFrame(np.row_stack(Y_val))\n",
    "            for i in range(len(Y_val.loc[:,0])):\n",
    "                m = re.search(r'\\d+$', Y_val.loc[i,0])\n",
    "                Y_val.loc[i,0] = int(m.group())-1\n",
    "            Y_val = Y_val.astype('str').astype('int')\n",
    "\n",
    "        print('Training', classifier.__name__)\n",
    "\n",
    "        # If classifier has random_state parameter, set it to random_state\n",
    "        if 'random_state' in inspect.signature(classifier).parameters:\n",
    "            estimator = classifier(random_state = random_state)\n",
    "        else:\n",
    "            estimator = classifier()\n",
    "    \n",
    "        estimator.fit(X_train, Y_train)       \n",
    "    \n",
    "        train_acc = estimator.score(X_train, Y_train)\n",
    "        test_acc = estimator.score(X_val, Y_val)\n",
    "\n",
    "        train_test_acc[classifier.__name__] = [train_acc, test_acc]\n",
    "\n",
    "    perf_df = pd.DataFrame.from_dict(train_test_acc, orient = 'index',\n",
    "                                     columns = ['train2 acc', 'val_acc'])\n",
    "\n",
    "    perf_df = perf_df.sort_values(by = ['val_acc'], ascending = False)\n",
    "    \n",
    "\n",
    "    perf_df.to_csv(dest_path, index = True) # Needs to be opened with index_col = 0\n",
    "\n",
    "    \n",
    "    return 'Performances saved successfully'"
   ]
  },
  {
   "cell_type": "code",
   "execution_count": 8,
   "metadata": {},
   "outputs": [
    {
     "name": "stdout",
     "output_type": "stream",
     "text": [
      "Trying out different classifiers\n"
     ]
    },
    {
     "name": "stderr",
     "output_type": "stream",
     "text": [
      "  0%|          | 0/9 [00:00<?, ?it/s]"
     ]
    },
    {
     "name": "stdout",
     "output_type": "stream",
     "text": [
      "Training LogisticRegression\n"
     ]
    },
    {
     "name": "stderr",
     "output_type": "stream",
     "text": [
      "c:\\Users\\Emili\\miniconda3\\envs\\DSIM\\Lib\\site-packages\\sklearn\\linear_model\\_logistic.py:458: ConvergenceWarning: lbfgs failed to converge (status=1):\n",
      "STOP: TOTAL NO. of ITERATIONS REACHED LIMIT.\n",
      "\n",
      "Increase the number of iterations (max_iter) or scale the data as shown in:\n",
      "    https://scikit-learn.org/stable/modules/preprocessing.html\n",
      "Please also refer to the documentation for alternative solver options:\n",
      "    https://scikit-learn.org/stable/modules/linear_model.html#logistic-regression\n",
      "  n_iter_i = _check_optimize_result(\n",
      " 11%|█         | 1/9 [00:54<07:12, 54.07s/it]"
     ]
    },
    {
     "name": "stdout",
     "output_type": "stream",
     "text": [
      "Training RidgeClassifier\n"
     ]
    },
    {
     "name": "stderr",
     "output_type": "stream",
     "text": [
      " 22%|██▏       | 2/9 [01:04<03:17, 28.21s/it]"
     ]
    },
    {
     "name": "stdout",
     "output_type": "stream",
     "text": [
      "Training GaussianNB\n"
     ]
    },
    {
     "name": "stderr",
     "output_type": "stream",
     "text": [
      " 33%|███▎      | 3/9 [01:32<02:50, 28.36s/it]"
     ]
    },
    {
     "name": "stdout",
     "output_type": "stream",
     "text": [
      "Training LinearDiscriminantAnalysis\n"
     ]
    },
    {
     "name": "stderr",
     "output_type": "stream",
     "text": [
      " 44%|████▍     | 4/9 [05:39<09:31, 114.40s/it]"
     ]
    },
    {
     "name": "stdout",
     "output_type": "stream",
     "text": [
      "Training QuadraticDiscriminantAnalysis\n"
     ]
    },
    {
     "name": "stderr",
     "output_type": "stream",
     "text": [
      "c:\\Users\\Emili\\miniconda3\\envs\\DSIM\\Lib\\site-packages\\sklearn\\discriminant_analysis.py:926: UserWarning: Variables are collinear\n",
      "  warnings.warn(\"Variables are collinear\")\n",
      " 56%|█████▌    | 5/9 [06:30<06:06, 91.54s/it] "
     ]
    },
    {
     "name": "stdout",
     "output_type": "stream",
     "text": [
      "Training RandomForestClassifier\n"
     ]
    },
    {
     "name": "stderr",
     "output_type": "stream",
     "text": [
      " 67%|██████▋   | 6/9 [08:18<04:51, 97.20s/it]"
     ]
    },
    {
     "name": "stdout",
     "output_type": "stream",
     "text": [
      "Training KNeighborsClassifier\n"
     ]
    },
    {
     "name": "stderr",
     "output_type": "stream",
     "text": [
      " 78%|███████▊  | 7/9 [08:32<02:20, 70.03s/it]"
     ]
    },
    {
     "name": "stdout",
     "output_type": "stream",
     "text": [
      "Training NearestCentroid\n"
     ]
    },
    {
     "name": "stderr",
     "output_type": "stream",
     "text": [
      " 89%|████████▉ | 8/9 [08:33<00:48, 48.20s/it]"
     ]
    },
    {
     "name": "stdout",
     "output_type": "stream",
     "text": [
      "data format changed\n",
      "\n",
      "Training XGBClassifier\n"
     ]
    },
    {
     "name": "stderr",
     "output_type": "stream",
     "text": [
      "100%|██████████| 9/9 [1:07:35<00:00, 450.59s/it] "
     ]
    },
    {
     "name": "stdout",
     "output_type": "stream",
     "text": [
      "Performances saved successfully\n"
     ]
    },
    {
     "name": "stderr",
     "output_type": "stream",
     "text": [
      "\n"
     ]
    }
   ],
   "source": [
    "classifiers = [LogisticRegression, RidgeClassifier, GaussianNB,\n",
    "               LinearDiscriminantAnalysis, QuadraticDiscriminantAnalysis, RandomForestClassifier,\n",
    "               KNeighborsClassifier, NearestCentroid, XGBClassifier]\n",
    "dest_path = os.getcwd() + '\\\\classifiers_summary.csv'\n",
    "random_state = 10\n",
    "\n",
    "print('Trying out different classifiers')\n",
    "print(try_classifiers(X_train, y_train, classifiers, dest_path, random_state, 0.3))"
   ]
  },
  {
   "cell_type": "code",
   "execution_count": 9,
   "metadata": {},
   "outputs": [
    {
     "data": {
      "text/html": [
       "<div>\n",
       "<style scoped>\n",
       "    .dataframe tbody tr th:only-of-type {\n",
       "        vertical-align: middle;\n",
       "    }\n",
       "\n",
       "    .dataframe tbody tr th {\n",
       "        vertical-align: top;\n",
       "    }\n",
       "\n",
       "    .dataframe thead th {\n",
       "        text-align: right;\n",
       "    }\n",
       "</style>\n",
       "<table border=\"1\" class=\"dataframe\">\n",
       "  <thead>\n",
       "    <tr style=\"text-align: right;\">\n",
       "      <th></th>\n",
       "      <th>train2 acc</th>\n",
       "      <th>val_acc</th>\n",
       "    </tr>\n",
       "  </thead>\n",
       "  <tbody>\n",
       "    <tr>\n",
       "      <th>XGBClassifier</th>\n",
       "      <td>0.999812</td>\n",
       "      <td>0.893187</td>\n",
       "    </tr>\n",
       "    <tr>\n",
       "      <th>RandomForestClassifier</th>\n",
       "      <td>0.999812</td>\n",
       "      <td>0.871648</td>\n",
       "    </tr>\n",
       "    <tr>\n",
       "      <th>LogisticRegression</th>\n",
       "      <td>0.999812</td>\n",
       "      <td>0.837802</td>\n",
       "    </tr>\n",
       "    <tr>\n",
       "      <th>NearestCentroid</th>\n",
       "      <td>0.853806</td>\n",
       "      <td>0.771429</td>\n",
       "    </tr>\n",
       "    <tr>\n",
       "      <th>GaussianNB</th>\n",
       "      <td>0.982668</td>\n",
       "      <td>0.745055</td>\n",
       "    </tr>\n",
       "    <tr>\n",
       "      <th>RidgeClassifier</th>\n",
       "      <td>0.999812</td>\n",
       "      <td>0.343297</td>\n",
       "    </tr>\n",
       "    <tr>\n",
       "      <th>KNeighborsClassifier</th>\n",
       "      <td>0.195177</td>\n",
       "      <td>0.096703</td>\n",
       "    </tr>\n",
       "    <tr>\n",
       "      <th>LinearDiscriminantAnalysis</th>\n",
       "      <td>0.999812</td>\n",
       "      <td>0.088352</td>\n",
       "    </tr>\n",
       "    <tr>\n",
       "      <th>QuadraticDiscriminantAnalysis</th>\n",
       "      <td>0.999812</td>\n",
       "      <td>0.034725</td>\n",
       "    </tr>\n",
       "  </tbody>\n",
       "</table>\n",
       "</div>"
      ],
      "text/plain": [
       "                               train2 acc   val_acc\n",
       "XGBClassifier                    0.999812  0.893187\n",
       "RandomForestClassifier           0.999812  0.871648\n",
       "LogisticRegression               0.999812  0.837802\n",
       "NearestCentroid                  0.853806  0.771429\n",
       "GaussianNB                       0.982668  0.745055\n",
       "RidgeClassifier                  0.999812  0.343297\n",
       "KNeighborsClassifier             0.195177  0.096703\n",
       "LinearDiscriminantAnalysis       0.999812  0.088352\n",
       "QuadraticDiscriminantAnalysis    0.999812  0.034725"
      ]
     },
     "execution_count": 9,
     "metadata": {},
     "output_type": "execute_result"
    }
   ],
   "source": [
    "pd.read_csv(dest_path, index_col = 0)"
   ]
  },
  {
   "attachments": {},
   "cell_type": "markdown",
   "metadata": {},
   "source": [
    "We are going to try the following classifiers:\n",
    "- **Random Forest** (second best validation accuracy with less computational time than XGBoost)\n",
    "- **NearestCentroid** (least overfitting while mantaining a decent validation accuracy)"
   ]
  },
  {
   "attachments": {},
   "cell_type": "markdown",
   "metadata": {},
   "source": [
    "## **Random Forest**"
   ]
  },
  {
   "attachments": {},
   "cell_type": "markdown",
   "metadata": {},
   "source": [
    "### **Hyperparameter tuning**\n",
    "\n",
    "We will tune the hyperparameters of the random forest model by using a custom made function that doesn't use cross validation (it uses a single split instead) to save computational time. We will use the following hyperparameters:\n",
    "\n",
    "\n",
    "- 'n_estimators': [50, 100, 200, 500],\n",
    "- 'max_features': [ 'sqrt', 'log2'],\n",
    "- 'min_samples_leaf': [2, 5, 10, 20],\n",
    "- 'criterion' :['gini', 'entropy']\n"
   ]
  },
  {
   "cell_type": "code",
   "execution_count": 102,
   "metadata": {},
   "outputs": [],
   "source": [
    "def rf_tuning(X, Y, hyperparameters, dest_path, random_state, split):\n",
    "    \n",
    "    train_test_acc = {}\n",
    "    \n",
    "    # Splitting the set for validation\n",
    "    X_train2, X_val, Y_train2, Y_val = train_test_split(X, Y, test_size = split, random_state = random_state)\n",
    "\n",
    "    train_test_acc = {}\n",
    "\n",
    "    for n in hyperparameters['n_estimators']:\n",
    "        for f in hyperparameters['max_features']:\n",
    "            for l in hyperparameters['min_samples_leaf']:\n",
    "                for c in hyperparameters['criterion']:\n",
    "                    clf = RandomForestClassifier(n_estimators=n, max_features=f, min_samples_leaf=l, criterion=c)\n",
    "                    clf.fit(X_train2, Y_train2)\n",
    "                    train2_acc = clf.score(X_train2, Y_train2)\n",
    "                    val_acc = clf.score(X_val, Y_val)\n",
    "                    \n",
    "                    hp_combo = {'n_estimators':  n, 'max_features': f, 'min_samples_leaf': l, 'criterion': c}\n",
    "                    key = str(hp_combo)\n",
    "                    train_test_acc[key] = [train2_acc, val_acc]\n",
    "                    \n",
    "    perf_df = pd.DataFrame.from_dict(train_test_acc, orient = 'index',\n",
    "                                     columns = ['train2 acc', 'val_acc'])\n",
    "        \n",
    "    perf_df = perf_df.sort_values(by = ['val_acc'], ascending = False)\n",
    "    \n",
    "\n",
    "    perf_df.to_csv(dest_path, index = True) # Needs to be opened with index_col = 0\n",
    "\n",
    "    \n",
    "    return 'Performances saved successfully'"
   ]
  },
  {
   "cell_type": "code",
   "execution_count": 1,
   "metadata": {},
   "outputs": [
    {
     "ename": "NameError",
     "evalue": "name 'X_train' is not defined",
     "output_type": "error",
     "traceback": [
      "\u001b[1;31m---------------------------------------------------------------------------\u001b[0m",
      "\u001b[1;31mNameError\u001b[0m                                 Traceback (most recent call last)",
      "Cell \u001b[1;32mIn[1], line 10\u001b[0m\n\u001b[0;32m      8\u001b[0m random_state \u001b[39m=\u001b[39m \u001b[39m10\u001b[39m\n\u001b[0;32m      9\u001b[0m split \u001b[39m=\u001b[39m \u001b[39m0.3\u001b[39m\n\u001b[1;32m---> 10\u001b[0m X \u001b[39m=\u001b[39m X_train\n\u001b[0;32m     11\u001b[0m Y \u001b[39m=\u001b[39m y_train\n\u001b[0;32m     13\u001b[0m \u001b[39mprint\u001b[39m(rf_tuning(X, Y, hyperparameters, dest_path, random_state, split))\n",
      "\u001b[1;31mNameError\u001b[0m: name 'X_train' is not defined"
     ]
    }
   ],
   "source": [
    "dest_path = os.getcwd() + '\\\\RF_tuning.csv'\n",
    "hyperparameters = {\n",
    "    'n_estimators': [50, 100, 200, 500],\n",
    "    'max_features': [ 'sqrt', 'log2'],\n",
    "    'min_samples_leaf': [2, 5, 10, 20],\n",
    "    'criterion' :['gini', 'entropy']\n",
    "}\n",
    "random_state = 10\n",
    "split = 0.3\n",
    "X = X_train\n",
    "Y = y_train\n",
    "\n",
    "print(rf_tuning(X, Y, hyperparameters, dest_path, random_state, split))\n",
    "\n",
    "rf_tuning_df = pd.read_csv(dest_path, index_col = 0)"
   ]
  },
  {
   "cell_type": "code",
   "execution_count": 162,
   "metadata": {},
   "outputs": [
    {
     "data": {
      "text/html": [
       "<div>\n",
       "<style scoped>\n",
       "    .dataframe tbody tr th:only-of-type {\n",
       "        vertical-align: middle;\n",
       "    }\n",
       "\n",
       "    .dataframe tbody tr th {\n",
       "        vertical-align: top;\n",
       "    }\n",
       "\n",
       "    .dataframe thead th {\n",
       "        text-align: right;\n",
       "    }\n",
       "</style>\n",
       "<table border=\"1\" class=\"dataframe\">\n",
       "  <thead>\n",
       "    <tr style=\"text-align: right;\">\n",
       "      <th></th>\n",
       "      <th>train2 acc</th>\n",
       "      <th>val_acc</th>\n",
       "    </tr>\n",
       "  </thead>\n",
       "  <tbody>\n",
       "    <tr>\n",
       "      <th>{'n_estimators': 500, 'max_features': 'sqrt', 'min_samples_leaf': 5, 'criterion': 'gini'}</th>\n",
       "      <td>0.999246</td>\n",
       "      <td>0.919121</td>\n",
       "    </tr>\n",
       "    <tr>\n",
       "      <th>{'n_estimators': 500, 'max_features': 'sqrt', 'min_samples_leaf': 2, 'criterion': 'gini'}</th>\n",
       "      <td>0.999812</td>\n",
       "      <td>0.912967</td>\n",
       "    </tr>\n",
       "    <tr>\n",
       "      <th>{'n_estimators': 500, 'max_features': 'sqrt', 'min_samples_leaf': 2, 'criterion': 'entropy'}</th>\n",
       "      <td>0.999812</td>\n",
       "      <td>0.907692</td>\n",
       "    </tr>\n",
       "    <tr>\n",
       "      <th>{'n_estimators': 500, 'max_features': 'sqrt', 'min_samples_leaf': 10, 'criterion': 'gini'}</th>\n",
       "      <td>0.998681</td>\n",
       "      <td>0.907253</td>\n",
       "    </tr>\n",
       "    <tr>\n",
       "      <th>{'n_estimators': 500, 'max_features': 'sqrt', 'min_samples_leaf': 10, 'criterion': 'entropy'}</th>\n",
       "      <td>0.998116</td>\n",
       "      <td>0.906813</td>\n",
       "    </tr>\n",
       "    <tr>\n",
       "      <th>{'n_estimators': 200, 'max_features': 'sqrt', 'min_samples_leaf': 2, 'criterion': 'gini'}</th>\n",
       "      <td>0.999812</td>\n",
       "      <td>0.904615</td>\n",
       "    </tr>\n",
       "    <tr>\n",
       "      <th>{'n_estimators': 500, 'max_features': 'sqrt', 'min_samples_leaf': 20, 'criterion': 'gini'}</th>\n",
       "      <td>0.996044</td>\n",
       "      <td>0.904176</td>\n",
       "    </tr>\n",
       "    <tr>\n",
       "      <th>{'n_estimators': 500, 'max_features': 'sqrt', 'min_samples_leaf': 5, 'criterion': 'entropy'}</th>\n",
       "      <td>0.999435</td>\n",
       "      <td>0.904176</td>\n",
       "    </tr>\n",
       "    <tr>\n",
       "      <th>{'n_estimators': 200, 'max_features': 'sqrt', 'min_samples_leaf': 5, 'criterion': 'gini'}</th>\n",
       "      <td>0.999058</td>\n",
       "      <td>0.904176</td>\n",
       "    </tr>\n",
       "    <tr>\n",
       "      <th>{'n_estimators': 200, 'max_features': 'sqrt', 'min_samples_leaf': 10, 'criterion': 'gini'}</th>\n",
       "      <td>0.998493</td>\n",
       "      <td>0.902418</td>\n",
       "    </tr>\n",
       "  </tbody>\n",
       "</table>\n",
       "</div>"
      ],
      "text/plain": [
       "                                                    train2 acc   val_acc\n",
       "{'n_estimators': 500, 'max_features': 'sqrt', '...    0.999246  0.919121\n",
       "{'n_estimators': 500, 'max_features': 'sqrt', '...    0.999812  0.912967\n",
       "{'n_estimators': 500, 'max_features': 'sqrt', '...    0.999812  0.907692\n",
       "{'n_estimators': 500, 'max_features': 'sqrt', '...    0.998681  0.907253\n",
       "{'n_estimators': 500, 'max_features': 'sqrt', '...    0.998116  0.906813\n",
       "{'n_estimators': 200, 'max_features': 'sqrt', '...    0.999812  0.904615\n",
       "{'n_estimators': 500, 'max_features': 'sqrt', '...    0.996044  0.904176\n",
       "{'n_estimators': 500, 'max_features': 'sqrt', '...    0.999435  0.904176\n",
       "{'n_estimators': 200, 'max_features': 'sqrt', '...    0.999058  0.904176\n",
       "{'n_estimators': 200, 'max_features': 'sqrt', '...    0.998493  0.902418"
      ]
     },
     "execution_count": 162,
     "metadata": {},
     "output_type": "execute_result"
    }
   ],
   "source": [
    "rf_tuning_df.head(10)"
   ]
  },
  {
   "attachments": {},
   "cell_type": "markdown",
   "metadata": {},
   "source": [
    "### **Final model**\n",
    "Fitting model with optimal parameters:"
   ]
  },
  {
   "cell_type": "code",
   "execution_count": 10,
   "metadata": {},
   "outputs": [
    {
     "data": {
      "text/html": [
       "<style>#sk-container-id-1 {color: black;background-color: white;}#sk-container-id-1 pre{padding: 0;}#sk-container-id-1 div.sk-toggleable {background-color: white;}#sk-container-id-1 label.sk-toggleable__label {cursor: pointer;display: block;width: 100%;margin-bottom: 0;padding: 0.3em;box-sizing: border-box;text-align: center;}#sk-container-id-1 label.sk-toggleable__label-arrow:before {content: \"▸\";float: left;margin-right: 0.25em;color: #696969;}#sk-container-id-1 label.sk-toggleable__label-arrow:hover:before {color: black;}#sk-container-id-1 div.sk-estimator:hover label.sk-toggleable__label-arrow:before {color: black;}#sk-container-id-1 div.sk-toggleable__content {max-height: 0;max-width: 0;overflow: hidden;text-align: left;background-color: #f0f8ff;}#sk-container-id-1 div.sk-toggleable__content pre {margin: 0.2em;color: black;border-radius: 0.25em;background-color: #f0f8ff;}#sk-container-id-1 input.sk-toggleable__control:checked~div.sk-toggleable__content {max-height: 200px;max-width: 100%;overflow: auto;}#sk-container-id-1 input.sk-toggleable__control:checked~label.sk-toggleable__label-arrow:before {content: \"▾\";}#sk-container-id-1 div.sk-estimator input.sk-toggleable__control:checked~label.sk-toggleable__label {background-color: #d4ebff;}#sk-container-id-1 div.sk-label input.sk-toggleable__control:checked~label.sk-toggleable__label {background-color: #d4ebff;}#sk-container-id-1 input.sk-hidden--visually {border: 0;clip: rect(1px 1px 1px 1px);clip: rect(1px, 1px, 1px, 1px);height: 1px;margin: -1px;overflow: hidden;padding: 0;position: absolute;width: 1px;}#sk-container-id-1 div.sk-estimator {font-family: monospace;background-color: #f0f8ff;border: 1px dotted black;border-radius: 0.25em;box-sizing: border-box;margin-bottom: 0.5em;}#sk-container-id-1 div.sk-estimator:hover {background-color: #d4ebff;}#sk-container-id-1 div.sk-parallel-item::after {content: \"\";width: 100%;border-bottom: 1px solid gray;flex-grow: 1;}#sk-container-id-1 div.sk-label:hover label.sk-toggleable__label {background-color: #d4ebff;}#sk-container-id-1 div.sk-serial::before {content: \"\";position: absolute;border-left: 1px solid gray;box-sizing: border-box;top: 0;bottom: 0;left: 50%;z-index: 0;}#sk-container-id-1 div.sk-serial {display: flex;flex-direction: column;align-items: center;background-color: white;padding-right: 0.2em;padding-left: 0.2em;position: relative;}#sk-container-id-1 div.sk-item {position: relative;z-index: 1;}#sk-container-id-1 div.sk-parallel {display: flex;align-items: stretch;justify-content: center;background-color: white;position: relative;}#sk-container-id-1 div.sk-item::before, #sk-container-id-1 div.sk-parallel-item::before {content: \"\";position: absolute;border-left: 1px solid gray;box-sizing: border-box;top: 0;bottom: 0;left: 50%;z-index: -1;}#sk-container-id-1 div.sk-parallel-item {display: flex;flex-direction: column;z-index: 1;position: relative;background-color: white;}#sk-container-id-1 div.sk-parallel-item:first-child::after {align-self: flex-end;width: 50%;}#sk-container-id-1 div.sk-parallel-item:last-child::after {align-self: flex-start;width: 50%;}#sk-container-id-1 div.sk-parallel-item:only-child::after {width: 0;}#sk-container-id-1 div.sk-dashed-wrapped {border: 1px dashed gray;margin: 0 0.4em 0.5em 0.4em;box-sizing: border-box;padding-bottom: 0.4em;background-color: white;}#sk-container-id-1 div.sk-label label {font-family: monospace;font-weight: bold;display: inline-block;line-height: 1.2em;}#sk-container-id-1 div.sk-label-container {text-align: center;}#sk-container-id-1 div.sk-container {/* jupyter's `normalize.less` sets `[hidden] { display: none; }` but bootstrap.min.css set `[hidden] { display: none !important; }` so we also need the `!important` here to be able to override the default hidden behavior on the sphinx rendered scikit-learn.org. See: https://github.com/scikit-learn/scikit-learn/issues/21755 */display: inline-block !important;position: relative;}#sk-container-id-1 div.sk-text-repr-fallback {display: none;}</style><div id=\"sk-container-id-1\" class=\"sk-top-container\"><div class=\"sk-text-repr-fallback\"><pre>RandomForestClassifier(min_samples_leaf=5, n_estimators=500, random_state=10)</pre><b>In a Jupyter environment, please rerun this cell to show the HTML representation or trust the notebook. <br />On GitHub, the HTML representation is unable to render, please try loading this page with nbviewer.org.</b></div><div class=\"sk-container\" hidden><div class=\"sk-item\"><div class=\"sk-estimator sk-toggleable\"><input class=\"sk-toggleable__control sk-hidden--visually\" id=\"sk-estimator-id-1\" type=\"checkbox\" checked><label for=\"sk-estimator-id-1\" class=\"sk-toggleable__label sk-toggleable__label-arrow\">RandomForestClassifier</label><div class=\"sk-toggleable__content\"><pre>RandomForestClassifier(min_samples_leaf=5, n_estimators=500, random_state=10)</pre></div></div></div></div></div>"
      ],
      "text/plain": [
       "RandomForestClassifier(min_samples_leaf=5, n_estimators=500, random_state=10)"
      ]
     },
     "execution_count": 10,
     "metadata": {},
     "output_type": "execute_result"
    }
   ],
   "source": [
    "rf = RandomForestClassifier(n_estimators=500, criterion='gini', max_features='sqrt',\n",
    "                            min_samples_leaf=5, random_state=10)\n",
    "rf.fit(X_train, y_train)"
   ]
  },
  {
   "attachments": {},
   "cell_type": "markdown",
   "metadata": {},
   "source": [
    "**Performances:**"
   ]
  },
  {
   "cell_type": "code",
   "execution_count": 11,
   "metadata": {},
   "outputs": [
    {
     "name": "stdout",
     "output_type": "stream",
     "text": [
      "\n",
      "Accuracy on train set: 0.9994725042859027\n"
     ]
    }
   ],
   "source": [
    "print(f\"\\nAccuracy on train set: {rf.score(X_train, y_train)}\")"
   ]
  },
  {
   "cell_type": "code",
   "execution_count": 12,
   "metadata": {},
   "outputs": [],
   "source": [
    "predictions = rf.predict(X_test)"
   ]
  },
  {
   "cell_type": "code",
   "execution_count": 8,
   "metadata": {},
   "outputs": [
    {
     "data": {
      "image/png": "[encoded data removed]",
      "text/plain": [
       "<Figure size 1000x1000 with 2 Axes>"
      ]
     },
     "metadata": {},
     "output_type": "display_data"
    }
   ],
   "source": [
    "plot_confusion_matrix(y_test, predictions, x_tick_rotation=90, figsize=(10,10),\n",
    "                      title='Confusion matrix for Random Forest (test set)');"
   ]
  },
  {
   "cell_type": "code",
   "execution_count": 13,
   "metadata": {},
   "outputs": [],
   "source": [
    "def get_classification_report(y_test, y_pred):\n",
    "\n",
    "    report = classification_report(y_test, y_pred, output_dict=True)\n",
    "    df_classification_report = pd.DataFrame(report).transpose()\n",
    "    df_classification_report = df_classification_report.round(3)\n",
    "    df_classification_report = df_classification_report.drop(['weighted avg'])\n",
    "    df_classification_report['support'] = df_classification_report['support'].astype(int)\n",
    "    df_classification_report['accuracy'] = np.nan\n",
    "    df_classification_report = df_classification_report[['accuracy', 'precision', 'recall', 'f1-score', 'support']]\n",
    "    df_classification_report['accuracy']['macro avg']= df_classification_report['precision']['accuracy']\n",
    "    df_classification_report = df_classification_report.drop(['accuracy'], axis=0)\n",
    "    df_classification_report.rename({'macro avg': 'average'}, axis=0, inplace=True)\n",
    "    return df_classification_report"
   ]
  },
  {
   "cell_type": "code",
   "execution_count": 14,
   "metadata": {},
   "outputs": [
    {
     "name": "stdout",
     "output_type": "stream",
     "text": [
      "\n",
      "Classification report for Random Forest (test set):\n"
     ]
    },
    {
     "data": {
      "text/html": [
       "<div>\n",
       "<style scoped>\n",
       "    .dataframe tbody tr th:only-of-type {\n",
       "        vertical-align: middle;\n",
       "    }\n",
       "\n",
       "    .dataframe tbody tr th {\n",
       "        vertical-align: top;\n",
       "    }\n",
       "\n",
       "    .dataframe thead th {\n",
       "        text-align: right;\n",
       "    }\n",
       "</style>\n",
       "<table border=\"1\" class=\"dataframe\">\n",
       "  <thead>\n",
       "    <tr style=\"text-align: right;\">\n",
       "      <th></th>\n",
       "      <th>accuracy</th>\n",
       "      <th>precision</th>\n",
       "      <th>recall</th>\n",
       "      <th>f1-score</th>\n",
       "      <th>support</th>\n",
       "    </tr>\n",
       "  </thead>\n",
       "  <tbody>\n",
       "    <tr>\n",
       "      <th>speaker_1</th>\n",
       "      <td>NaN</td>\n",
       "      <td>0.833</td>\n",
       "      <td>0.562</td>\n",
       "      <td>0.672</td>\n",
       "      <td>80</td>\n",
       "    </tr>\n",
       "    <tr>\n",
       "      <th>speaker_10</th>\n",
       "      <td>NaN</td>\n",
       "      <td>0.987</td>\n",
       "      <td>0.962</td>\n",
       "      <td>0.975</td>\n",
       "      <td>80</td>\n",
       "    </tr>\n",
       "    <tr>\n",
       "      <th>speaker_11</th>\n",
       "      <td>NaN</td>\n",
       "      <td>1.000</td>\n",
       "      <td>1.000</td>\n",
       "      <td>1.000</td>\n",
       "      <td>80</td>\n",
       "    </tr>\n",
       "    <tr>\n",
       "      <th>speaker_12</th>\n",
       "      <td>NaN</td>\n",
       "      <td>1.000</td>\n",
       "      <td>1.000</td>\n",
       "      <td>1.000</td>\n",
       "      <td>80</td>\n",
       "    </tr>\n",
       "    <tr>\n",
       "      <th>speaker_13</th>\n",
       "      <td>NaN</td>\n",
       "      <td>1.000</td>\n",
       "      <td>0.988</td>\n",
       "      <td>0.994</td>\n",
       "      <td>80</td>\n",
       "    </tr>\n",
       "    <tr>\n",
       "      <th>speaker_14</th>\n",
       "      <td>NaN</td>\n",
       "      <td>0.976</td>\n",
       "      <td>1.000</td>\n",
       "      <td>0.988</td>\n",
       "      <td>80</td>\n",
       "    </tr>\n",
       "    <tr>\n",
       "      <th>speaker_15</th>\n",
       "      <td>NaN</td>\n",
       "      <td>0.975</td>\n",
       "      <td>0.975</td>\n",
       "      <td>0.975</td>\n",
       "      <td>80</td>\n",
       "    </tr>\n",
       "    <tr>\n",
       "      <th>speaker_16</th>\n",
       "      <td>NaN</td>\n",
       "      <td>1.000</td>\n",
       "      <td>1.000</td>\n",
       "      <td>1.000</td>\n",
       "      <td>80</td>\n",
       "    </tr>\n",
       "    <tr>\n",
       "      <th>speaker_17</th>\n",
       "      <td>NaN</td>\n",
       "      <td>0.976</td>\n",
       "      <td>1.000</td>\n",
       "      <td>0.988</td>\n",
       "      <td>80</td>\n",
       "    </tr>\n",
       "    <tr>\n",
       "      <th>speaker_18</th>\n",
       "      <td>NaN</td>\n",
       "      <td>0.964</td>\n",
       "      <td>1.000</td>\n",
       "      <td>0.982</td>\n",
       "      <td>80</td>\n",
       "    </tr>\n",
       "    <tr>\n",
       "      <th>speaker_19</th>\n",
       "      <td>NaN</td>\n",
       "      <td>0.964</td>\n",
       "      <td>1.000</td>\n",
       "      <td>0.982</td>\n",
       "      <td>80</td>\n",
       "    </tr>\n",
       "    <tr>\n",
       "      <th>speaker_2</th>\n",
       "      <td>NaN</td>\n",
       "      <td>0.763</td>\n",
       "      <td>0.925</td>\n",
       "      <td>0.836</td>\n",
       "      <td>80</td>\n",
       "    </tr>\n",
       "    <tr>\n",
       "      <th>speaker_20</th>\n",
       "      <td>NaN</td>\n",
       "      <td>0.987</td>\n",
       "      <td>0.949</td>\n",
       "      <td>0.968</td>\n",
       "      <td>79</td>\n",
       "    </tr>\n",
       "    <tr>\n",
       "      <th>speaker_21</th>\n",
       "      <td>NaN</td>\n",
       "      <td>1.000</td>\n",
       "      <td>1.000</td>\n",
       "      <td>1.000</td>\n",
       "      <td>80</td>\n",
       "    </tr>\n",
       "    <tr>\n",
       "      <th>speaker_22</th>\n",
       "      <td>NaN</td>\n",
       "      <td>1.000</td>\n",
       "      <td>1.000</td>\n",
       "      <td>1.000</td>\n",
       "      <td>80</td>\n",
       "    </tr>\n",
       "    <tr>\n",
       "      <th>speaker_23</th>\n",
       "      <td>NaN</td>\n",
       "      <td>0.988</td>\n",
       "      <td>0.988</td>\n",
       "      <td>0.988</td>\n",
       "      <td>80</td>\n",
       "    </tr>\n",
       "    <tr>\n",
       "      <th>speaker_24</th>\n",
       "      <td>NaN</td>\n",
       "      <td>1.000</td>\n",
       "      <td>1.000</td>\n",
       "      <td>1.000</td>\n",
       "      <td>80</td>\n",
       "    </tr>\n",
       "    <tr>\n",
       "      <th>speaker_3</th>\n",
       "      <td>NaN</td>\n",
       "      <td>0.662</td>\n",
       "      <td>0.612</td>\n",
       "      <td>0.636</td>\n",
       "      <td>80</td>\n",
       "    </tr>\n",
       "    <tr>\n",
       "      <th>speaker_4</th>\n",
       "      <td>NaN</td>\n",
       "      <td>0.830</td>\n",
       "      <td>0.975</td>\n",
       "      <td>0.897</td>\n",
       "      <td>80</td>\n",
       "    </tr>\n",
       "    <tr>\n",
       "      <th>speaker_5</th>\n",
       "      <td>NaN</td>\n",
       "      <td>0.786</td>\n",
       "      <td>0.825</td>\n",
       "      <td>0.805</td>\n",
       "      <td>80</td>\n",
       "    </tr>\n",
       "    <tr>\n",
       "      <th>speaker_6</th>\n",
       "      <td>NaN</td>\n",
       "      <td>0.963</td>\n",
       "      <td>0.975</td>\n",
       "      <td>0.969</td>\n",
       "      <td>80</td>\n",
       "    </tr>\n",
       "    <tr>\n",
       "      <th>speaker_7</th>\n",
       "      <td>NaN</td>\n",
       "      <td>0.591</td>\n",
       "      <td>0.488</td>\n",
       "      <td>0.534</td>\n",
       "      <td>80</td>\n",
       "    </tr>\n",
       "    <tr>\n",
       "      <th>speaker_8</th>\n",
       "      <td>NaN</td>\n",
       "      <td>0.941</td>\n",
       "      <td>1.000</td>\n",
       "      <td>0.970</td>\n",
       "      <td>80</td>\n",
       "    </tr>\n",
       "    <tr>\n",
       "      <th>speaker_9</th>\n",
       "      <td>NaN</td>\n",
       "      <td>0.975</td>\n",
       "      <td>0.988</td>\n",
       "      <td>0.981</td>\n",
       "      <td>80</td>\n",
       "    </tr>\n",
       "    <tr>\n",
       "      <th>average</th>\n",
       "      <td>0.925</td>\n",
       "      <td>0.923</td>\n",
       "      <td>0.925</td>\n",
       "      <td>0.922</td>\n",
       "      <td>1919</td>\n",
       "    </tr>\n",
       "  </tbody>\n",
       "</table>\n",
       "</div>"
      ],
      "text/plain": [
       "            accuracy  precision  recall  f1-score  support\n",
       "speaker_1        NaN      0.833   0.562     0.672       80\n",
       "speaker_10       NaN      0.987   0.962     0.975       80\n",
       "speaker_11       NaN      1.000   1.000     1.000       80\n",
       "speaker_12       NaN      1.000   1.000     1.000       80\n",
       "speaker_13       NaN      1.000   0.988     0.994       80\n",
       "speaker_14       NaN      0.976   1.000     0.988       80\n",
       "speaker_15       NaN      0.975   0.975     0.975       80\n",
       "speaker_16       NaN      1.000   1.000     1.000       80\n",
       "speaker_17       NaN      0.976   1.000     0.988       80\n",
       "speaker_18       NaN      0.964   1.000     0.982       80\n",
       "speaker_19       NaN      0.964   1.000     0.982       80\n",
       "speaker_2        NaN      0.763   0.925     0.836       80\n",
       "speaker_20       NaN      0.987   0.949     0.968       79\n",
       "speaker_21       NaN      1.000   1.000     1.000       80\n",
       "speaker_22       NaN      1.000   1.000     1.000       80\n",
       "speaker_23       NaN      0.988   0.988     0.988       80\n",
       "speaker_24       NaN      1.000   1.000     1.000       80\n",
       "speaker_3        NaN      0.662   0.612     0.636       80\n",
       "speaker_4        NaN      0.830   0.975     0.897       80\n",
       "speaker_5        NaN      0.786   0.825     0.805       80\n",
       "speaker_6        NaN      0.963   0.975     0.969       80\n",
       "speaker_7        NaN      0.591   0.488     0.534       80\n",
       "speaker_8        NaN      0.941   1.000     0.970       80\n",
       "speaker_9        NaN      0.975   0.988     0.981       80\n",
       "average        0.925      0.923   0.925     0.922     1919"
      ]
     },
     "execution_count": 14,
     "metadata": {},
     "output_type": "execute_result"
    }
   ],
   "source": [
    "classification_report_df = get_classification_report(y_test, predictions)\n",
    "print('\\nClassification report for Random Forest (test set):')\n",
    "classification_report_df"
   ]
  },
  {
   "cell_type": "code",
   "execution_count": 11,
   "metadata": {},
   "outputs": [],
   "source": [
    "classification_report_df.to_csv(os.getcwd() + '\\\\RF_performances.csv', index = True)\n",
    "# Has to be read with index_col = 0"
   ]
  },
  {
   "cell_type": "code",
   "execution_count": 12,
   "metadata": {},
   "outputs": [],
   "source": [
    "pickle.dump(rf, open(os.getcwd() + '\\\\RF.sav', 'wb'))"
   ]
  },
  {
   "attachments": {},
   "cell_type": "markdown",
   "metadata": {},
   "source": [
    "As we can see even though the model is overfitting a bit, it is still performing well on the test set.\n",
    "If we look at the F1 score of each class, the only bad performing users are **speaker_1**, **speaker_3** and **speaker_7**. who still achieve a score higher than 0.5. Not bad considering we have 24 classes"
   ]
  },
  {
   "attachments": {},
   "cell_type": "markdown",
   "metadata": {},
   "source": [
    "## **Nearest Centroid**"
   ]
  },
  {
   "attachments": {},
   "cell_type": "markdown",
   "metadata": {},
   "source": [
    "### **Hyperparameter tuning**\n",
    "\n",
    "We will use the following hyperparameters:\n",
    "\n",
    "\n",
    "- 'metrics': ['euclidean', 'manhattan'],\n",
    "- 'shrink_threshold': [0, 0.1, 0.2, 0.3, 0.4, 0.5, 0.6, 0.7, 0.8, 0.9, 1.0]\n",
    "\n",
    "Since this model doesn't have many hyperparameters and is computationally cheap, we will use cross validation to tune the hyperparameters"
   ]
  },
  {
   "cell_type": "code",
   "execution_count": 15,
   "metadata": {},
   "outputs": [],
   "source": [
    "hyperparameters = {'metric': ['euclidean', 'manhattan'],\n",
    "                   'shrink_threshold': [0, 0.1, 0.2, 0.3, 0.4, 0.5,\n",
    "                                        0.6, 0.7, 0.8, 0.9, 1.0]}"
   ]
  },
  {
   "cell_type": "code",
   "execution_count": null,
   "metadata": {},
   "outputs": [],
   "source": [
    "nc = NearestCentroid()\n",
    "clf = GridSearchCV(nc, hyperparameters, n_jobs=-1, cv=5, verbose=1)\n",
    "clf.fit(X_train, y_train)"
   ]
  },
  {
   "cell_type": "code",
   "execution_count": 198,
   "metadata": {},
   "outputs": [
    {
     "data": {
      "text/plain": [
       "{'metric': 'euclidean', 'shrink_threshold': None}"
      ]
     },
     "execution_count": 198,
     "metadata": {},
     "output_type": "execute_result"
    }
   ],
   "source": [
    "clf.best_params_"
   ]
  },
  {
   "attachments": {},
   "cell_type": "markdown",
   "metadata": {},
   "source": [
    "The best hyperparameters are the default ones"
   ]
  },
  {
   "attachments": {},
   "cell_type": "markdown",
   "metadata": {},
   "source": [
    "### **Final model**\n",
    "Fitting model with optimal parameters:"
   ]
  },
  {
   "cell_type": "code",
   "execution_count": 15,
   "metadata": {},
   "outputs": [
    {
     "data": {
      "text/html": [
       "<style>#sk-container-id-2 {color: black;background-color: white;}#sk-container-id-2 pre{padding: 0;}#sk-container-id-2 div.sk-toggleable {background-color: white;}#sk-container-id-2 label.sk-toggleable__label {cursor: pointer;display: block;width: 100%;margin-bottom: 0;padding: 0.3em;box-sizing: border-box;text-align: center;}#sk-container-id-2 label.sk-toggleable__label-arrow:before {content: \"▸\";float: left;margin-right: 0.25em;color: #696969;}#sk-container-id-2 label.sk-toggleable__label-arrow:hover:before {color: black;}#sk-container-id-2 div.sk-estimator:hover label.sk-toggleable__label-arrow:before {color: black;}#sk-container-id-2 div.sk-toggleable__content {max-height: 0;max-width: 0;overflow: hidden;text-align: left;background-color: #f0f8ff;}#sk-container-id-2 div.sk-toggleable__content pre {margin: 0.2em;color: black;border-radius: 0.25em;background-color: #f0f8ff;}#sk-container-id-2 input.sk-toggleable__control:checked~div.sk-toggleable__content {max-height: 200px;max-width: 100%;overflow: auto;}#sk-container-id-2 input.sk-toggleable__control:checked~label.sk-toggleable__label-arrow:before {content: \"▾\";}#sk-container-id-2 div.sk-estimator input.sk-toggleable__control:checked~label.sk-toggleable__label {background-color: #d4ebff;}#sk-container-id-2 div.sk-label input.sk-toggleable__control:checked~label.sk-toggleable__label {background-color: #d4ebff;}#sk-container-id-2 input.sk-hidden--visually {border: 0;clip: rect(1px 1px 1px 1px);clip: rect(1px, 1px, 1px, 1px);height: 1px;margin: -1px;overflow: hidden;padding: 0;position: absolute;width: 1px;}#sk-container-id-2 div.sk-estimator {font-family: monospace;background-color: #f0f8ff;border: 1px dotted black;border-radius: 0.25em;box-sizing: border-box;margin-bottom: 0.5em;}#sk-container-id-2 div.sk-estimator:hover {background-color: #d4ebff;}#sk-container-id-2 div.sk-parallel-item::after {content: \"\";width: 100%;border-bottom: 1px solid gray;flex-grow: 1;}#sk-container-id-2 div.sk-label:hover label.sk-toggleable__label {background-color: #d4ebff;}#sk-container-id-2 div.sk-serial::before {content: \"\";position: absolute;border-left: 1px solid gray;box-sizing: border-box;top: 0;bottom: 0;left: 50%;z-index: 0;}#sk-container-id-2 div.sk-serial {display: flex;flex-direction: column;align-items: center;background-color: white;padding-right: 0.2em;padding-left: 0.2em;position: relative;}#sk-container-id-2 div.sk-item {position: relative;z-index: 1;}#sk-container-id-2 div.sk-parallel {display: flex;align-items: stretch;justify-content: center;background-color: white;position: relative;}#sk-container-id-2 div.sk-item::before, #sk-container-id-2 div.sk-parallel-item::before {content: \"\";position: absolute;border-left: 1px solid gray;box-sizing: border-box;top: 0;bottom: 0;left: 50%;z-index: -1;}#sk-container-id-2 div.sk-parallel-item {display: flex;flex-direction: column;z-index: 1;position: relative;background-color: white;}#sk-container-id-2 div.sk-parallel-item:first-child::after {align-self: flex-end;width: 50%;}#sk-container-id-2 div.sk-parallel-item:last-child::after {align-self: flex-start;width: 50%;}#sk-container-id-2 div.sk-parallel-item:only-child::after {width: 0;}#sk-container-id-2 div.sk-dashed-wrapped {border: 1px dashed gray;margin: 0 0.4em 0.5em 0.4em;box-sizing: border-box;padding-bottom: 0.4em;background-color: white;}#sk-container-id-2 div.sk-label label {font-family: monospace;font-weight: bold;display: inline-block;line-height: 1.2em;}#sk-container-id-2 div.sk-label-container {text-align: center;}#sk-container-id-2 div.sk-container {/* jupyter's `normalize.less` sets `[hidden] { display: none; }` but bootstrap.min.css set `[hidden] { display: none !important; }` so we also need the `!important` here to be able to override the default hidden behavior on the sphinx rendered scikit-learn.org. See: https://github.com/scikit-learn/scikit-learn/issues/21755 */display: inline-block !important;position: relative;}#sk-container-id-2 div.sk-text-repr-fallback {display: none;}</style><div id=\"sk-container-id-2\" class=\"sk-top-container\"><div class=\"sk-text-repr-fallback\"><pre>NearestCentroid()</pre><b>In a Jupyter environment, please rerun this cell to show the HTML representation or trust the notebook. <br />On GitHub, the HTML representation is unable to render, please try loading this page with nbviewer.org.</b></div><div class=\"sk-container\" hidden><div class=\"sk-item\"><div class=\"sk-estimator sk-toggleable\"><input class=\"sk-toggleable__control sk-hidden--visually\" id=\"sk-estimator-id-2\" type=\"checkbox\" checked><label for=\"sk-estimator-id-2\" class=\"sk-toggleable__label sk-toggleable__label-arrow\">NearestCentroid</label><div class=\"sk-toggleable__content\"><pre>NearestCentroid()</pre></div></div></div></div></div>"
      ],
      "text/plain": [
       "NearestCentroid()"
      ]
     },
     "execution_count": 15,
     "metadata": {},
     "output_type": "execute_result"
    }
   ],
   "source": [
    "nc = NearestCentroid()\n",
    "nc.fit(X_train, y_train)"
   ]
  },
  {
   "attachments": {},
   "cell_type": "markdown",
   "metadata": {},
   "source": [
    "**Performances:**"
   ]
  },
  {
   "cell_type": "code",
   "execution_count": 16,
   "metadata": {},
   "outputs": [
    {
     "name": "stdout",
     "output_type": "stream",
     "text": [
      "\n",
      "Accuracy on train set: 0.8519055782671766\n"
     ]
    }
   ],
   "source": [
    "print(f\"\\nAccuracy on train set: {nc.score(X_train, y_train)}\")"
   ]
  },
  {
   "cell_type": "code",
   "execution_count": 17,
   "metadata": {},
   "outputs": [],
   "source": [
    "predictions = nc.predict(X_test)"
   ]
  },
  {
   "cell_type": "code",
   "execution_count": 16,
   "metadata": {},
   "outputs": [
    {
     "data": {
      "image/png": "[encoded data removed]",
      "text/plain": [
       "<Figure size 1000x1000 with 2 Axes>"
      ]
     },
     "metadata": {},
     "output_type": "display_data"
    }
   ],
   "source": [
    "plot_confusion_matrix(y_test, predictions, x_tick_rotation=90, figsize=(10,10),\n",
    "                      title='Confusion matrix for Nearest Centroid (test set)');"
   ]
  },
  {
   "cell_type": "code",
   "execution_count": 17,
   "metadata": {},
   "outputs": [
    {
     "name": "stdout",
     "output_type": "stream",
     "text": [
      "\n",
      "Classification report for Nearest Centroid (test set):\n"
     ]
    },
    {
     "data": {
      "text/html": [
       "<div>\n",
       "<style scoped>\n",
       "    .dataframe tbody tr th:only-of-type {\n",
       "        vertical-align: middle;\n",
       "    }\n",
       "\n",
       "    .dataframe tbody tr th {\n",
       "        vertical-align: top;\n",
       "    }\n",
       "\n",
       "    .dataframe thead th {\n",
       "        text-align: right;\n",
       "    }\n",
       "</style>\n",
       "<table border=\"1\" class=\"dataframe\">\n",
       "  <thead>\n",
       "    <tr style=\"text-align: right;\">\n",
       "      <th></th>\n",
       "      <th>accuracy</th>\n",
       "      <th>precision</th>\n",
       "      <th>recall</th>\n",
       "      <th>f1-score</th>\n",
       "      <th>support</th>\n",
       "    </tr>\n",
       "  </thead>\n",
       "  <tbody>\n",
       "    <tr>\n",
       "      <th>speaker_1</th>\n",
       "      <td>NaN</td>\n",
       "      <td>0.708</td>\n",
       "      <td>0.638</td>\n",
       "      <td>0.671</td>\n",
       "      <td>80</td>\n",
       "    </tr>\n",
       "    <tr>\n",
       "      <th>speaker_10</th>\n",
       "      <td>NaN</td>\n",
       "      <td>0.922</td>\n",
       "      <td>0.888</td>\n",
       "      <td>0.904</td>\n",
       "      <td>80</td>\n",
       "    </tr>\n",
       "    <tr>\n",
       "      <th>speaker_11</th>\n",
       "      <td>NaN</td>\n",
       "      <td>0.960</td>\n",
       "      <td>0.900</td>\n",
       "      <td>0.929</td>\n",
       "      <td>80</td>\n",
       "    </tr>\n",
       "    <tr>\n",
       "      <th>speaker_12</th>\n",
       "      <td>NaN</td>\n",
       "      <td>0.984</td>\n",
       "      <td>0.788</td>\n",
       "      <td>0.875</td>\n",
       "      <td>80</td>\n",
       "    </tr>\n",
       "    <tr>\n",
       "      <th>speaker_13</th>\n",
       "      <td>NaN</td>\n",
       "      <td>1.000</td>\n",
       "      <td>0.775</td>\n",
       "      <td>0.873</td>\n",
       "      <td>80</td>\n",
       "    </tr>\n",
       "    <tr>\n",
       "      <th>speaker_14</th>\n",
       "      <td>NaN</td>\n",
       "      <td>0.722</td>\n",
       "      <td>0.875</td>\n",
       "      <td>0.791</td>\n",
       "      <td>80</td>\n",
       "    </tr>\n",
       "    <tr>\n",
       "      <th>speaker_15</th>\n",
       "      <td>NaN</td>\n",
       "      <td>0.652</td>\n",
       "      <td>0.912</td>\n",
       "      <td>0.760</td>\n",
       "      <td>80</td>\n",
       "    </tr>\n",
       "    <tr>\n",
       "      <th>speaker_16</th>\n",
       "      <td>NaN</td>\n",
       "      <td>0.985</td>\n",
       "      <td>0.800</td>\n",
       "      <td>0.883</td>\n",
       "      <td>80</td>\n",
       "    </tr>\n",
       "    <tr>\n",
       "      <th>speaker_17</th>\n",
       "      <td>NaN</td>\n",
       "      <td>0.833</td>\n",
       "      <td>0.688</td>\n",
       "      <td>0.753</td>\n",
       "      <td>80</td>\n",
       "    </tr>\n",
       "    <tr>\n",
       "      <th>speaker_18</th>\n",
       "      <td>NaN</td>\n",
       "      <td>0.868</td>\n",
       "      <td>0.738</td>\n",
       "      <td>0.797</td>\n",
       "      <td>80</td>\n",
       "    </tr>\n",
       "    <tr>\n",
       "      <th>speaker_19</th>\n",
       "      <td>NaN</td>\n",
       "      <td>0.449</td>\n",
       "      <td>1.000</td>\n",
       "      <td>0.620</td>\n",
       "      <td>80</td>\n",
       "    </tr>\n",
       "    <tr>\n",
       "      <th>speaker_2</th>\n",
       "      <td>NaN</td>\n",
       "      <td>0.707</td>\n",
       "      <td>0.725</td>\n",
       "      <td>0.716</td>\n",
       "      <td>80</td>\n",
       "    </tr>\n",
       "    <tr>\n",
       "      <th>speaker_20</th>\n",
       "      <td>NaN</td>\n",
       "      <td>0.928</td>\n",
       "      <td>0.810</td>\n",
       "      <td>0.865</td>\n",
       "      <td>79</td>\n",
       "    </tr>\n",
       "    <tr>\n",
       "      <th>speaker_21</th>\n",
       "      <td>NaN</td>\n",
       "      <td>0.740</td>\n",
       "      <td>0.712</td>\n",
       "      <td>0.726</td>\n",
       "      <td>80</td>\n",
       "    </tr>\n",
       "    <tr>\n",
       "      <th>speaker_22</th>\n",
       "      <td>NaN</td>\n",
       "      <td>0.933</td>\n",
       "      <td>0.875</td>\n",
       "      <td>0.903</td>\n",
       "      <td>80</td>\n",
       "    </tr>\n",
       "    <tr>\n",
       "      <th>speaker_23</th>\n",
       "      <td>NaN</td>\n",
       "      <td>0.892</td>\n",
       "      <td>0.825</td>\n",
       "      <td>0.857</td>\n",
       "      <td>80</td>\n",
       "    </tr>\n",
       "    <tr>\n",
       "      <th>speaker_24</th>\n",
       "      <td>NaN</td>\n",
       "      <td>0.838</td>\n",
       "      <td>0.838</td>\n",
       "      <td>0.838</td>\n",
       "      <td>80</td>\n",
       "    </tr>\n",
       "    <tr>\n",
       "      <th>speaker_3</th>\n",
       "      <td>NaN</td>\n",
       "      <td>0.586</td>\n",
       "      <td>0.425</td>\n",
       "      <td>0.493</td>\n",
       "      <td>80</td>\n",
       "    </tr>\n",
       "    <tr>\n",
       "      <th>speaker_4</th>\n",
       "      <td>NaN</td>\n",
       "      <td>0.959</td>\n",
       "      <td>0.875</td>\n",
       "      <td>0.915</td>\n",
       "      <td>80</td>\n",
       "    </tr>\n",
       "    <tr>\n",
       "      <th>speaker_5</th>\n",
       "      <td>NaN</td>\n",
       "      <td>0.825</td>\n",
       "      <td>0.650</td>\n",
       "      <td>0.727</td>\n",
       "      <td>80</td>\n",
       "    </tr>\n",
       "    <tr>\n",
       "      <th>speaker_6</th>\n",
       "      <td>NaN</td>\n",
       "      <td>0.823</td>\n",
       "      <td>0.812</td>\n",
       "      <td>0.818</td>\n",
       "      <td>80</td>\n",
       "    </tr>\n",
       "    <tr>\n",
       "      <th>speaker_7</th>\n",
       "      <td>NaN</td>\n",
       "      <td>0.385</td>\n",
       "      <td>0.438</td>\n",
       "      <td>0.409</td>\n",
       "      <td>80</td>\n",
       "    </tr>\n",
       "    <tr>\n",
       "      <th>speaker_8</th>\n",
       "      <td>NaN</td>\n",
       "      <td>0.969</td>\n",
       "      <td>0.775</td>\n",
       "      <td>0.861</td>\n",
       "      <td>80</td>\n",
       "    </tr>\n",
       "    <tr>\n",
       "      <th>speaker_9</th>\n",
       "      <td>NaN</td>\n",
       "      <td>0.724</td>\n",
       "      <td>0.888</td>\n",
       "      <td>0.798</td>\n",
       "      <td>80</td>\n",
       "    </tr>\n",
       "    <tr>\n",
       "      <th>average</th>\n",
       "      <td>0.777</td>\n",
       "      <td>0.808</td>\n",
       "      <td>0.777</td>\n",
       "      <td>0.783</td>\n",
       "      <td>1919</td>\n",
       "    </tr>\n",
       "  </tbody>\n",
       "</table>\n",
       "</div>"
      ],
      "text/plain": [
       "            accuracy  precision  recall  f1-score  support\n",
       "speaker_1        NaN      0.708   0.638     0.671       80\n",
       "speaker_10       NaN      0.922   0.888     0.904       80\n",
       "speaker_11       NaN      0.960   0.900     0.929       80\n",
       "speaker_12       NaN      0.984   0.788     0.875       80\n",
       "speaker_13       NaN      1.000   0.775     0.873       80\n",
       "speaker_14       NaN      0.722   0.875     0.791       80\n",
       "speaker_15       NaN      0.652   0.912     0.760       80\n",
       "speaker_16       NaN      0.985   0.800     0.883       80\n",
       "speaker_17       NaN      0.833   0.688     0.753       80\n",
       "speaker_18       NaN      0.868   0.738     0.797       80\n",
       "speaker_19       NaN      0.449   1.000     0.620       80\n",
       "speaker_2        NaN      0.707   0.725     0.716       80\n",
       "speaker_20       NaN      0.928   0.810     0.865       79\n",
       "speaker_21       NaN      0.740   0.712     0.726       80\n",
       "speaker_22       NaN      0.933   0.875     0.903       80\n",
       "speaker_23       NaN      0.892   0.825     0.857       80\n",
       "speaker_24       NaN      0.838   0.838     0.838       80\n",
       "speaker_3        NaN      0.586   0.425     0.493       80\n",
       "speaker_4        NaN      0.959   0.875     0.915       80\n",
       "speaker_5        NaN      0.825   0.650     0.727       80\n",
       "speaker_6        NaN      0.823   0.812     0.818       80\n",
       "speaker_7        NaN      0.385   0.438     0.409       80\n",
       "speaker_8        NaN      0.969   0.775     0.861       80\n",
       "speaker_9        NaN      0.724   0.888     0.798       80\n",
       "average        0.777      0.808   0.777     0.783     1919"
      ]
     },
     "execution_count": 17,
     "metadata": {},
     "output_type": "execute_result"
    }
   ],
   "source": [
    "classification_report_df = get_classification_report(y_test, predictions)\n",
    "print('\\nClassification report for Nearest Centroid (test set):')\n",
    "\n",
    "classification_report_df"
   ]
  },
  {
   "cell_type": "code",
   "execution_count": 18,
   "metadata": {},
   "outputs": [],
   "source": [
    "classification_report_df.to_csv(os.getcwd() + '\\\\NC_performances.csv', index = True)\n",
    "# Has to be read with index_col = 0"
   ]
  },
  {
   "cell_type": "code",
   "execution_count": 19,
   "metadata": {},
   "outputs": [],
   "source": [
    "pickle.dump(nc, open(os.getcwd() + '\\\\NC.sav', 'wb'))"
   ]
  },
  {
   "attachments": {},
   "cell_type": "markdown",
   "metadata": {},
   "source": [
    "Since the model is computationally cheap, we can also try a **5-fold cross validation**  on the whole dataset (instead of a train-teest single split) to check accuracy:"
   ]
  },
  {
   "cell_type": "code",
   "execution_count": 206,
   "metadata": {},
   "outputs": [],
   "source": [
    "def load_data_cv(feature_extractor, k_folds):\n",
    "\n",
    "  X= [[] for i in range(k_folds)]\n",
    "  y= [[] for i in range(k_folds)]\n",
    "  \n",
    "  output = []\n",
    "\n",
    "  random.seed(10) # For reproducibility\n",
    "\n",
    "  random.shuffle(os.listdir(path))\n",
    "  for speaker in os.listdir(path):\n",
    "    tracks = os.listdir(path + speaker)\n",
    "    random.shuffle(tracks) # We don't want the first seconds to systematically\n",
    "                           # be train and the last to be test\n",
    "                           \n",
    "                           \n",
    "    split = int(len(tracks)//k_folds)\n",
    "    k_splits = [split*i for i in range(k_folds)]\n",
    "    k_splits = k_splits + [len(tracks)]\n",
    "    track_num = 0\n",
    "    for track in tracks:\n",
    "      \n",
    "      _, signal = wav.read(path + speaker + '/' + track)\n",
    "\n",
    "      for j in range(k_folds):\n",
    "        if track_num in range(k_splits[j],k_splits[j+1]):\n",
    "          X[j].append(feature_extractor(signal))\n",
    "          y[j].append(speaker)\n",
    "          \n",
    "      track_num = track_num + 1\n",
    "          \n",
    "  eps = 0.001\n",
    "  \n",
    "  for j in range(k_folds):\n",
    "    \n",
    "    # Normalizing  input\n",
    "    X_test = np.array(X[j])\n",
    "    X_train_list_of_lists = [X[h] for h in range(k_folds) if h!=j]\n",
    "    X_train = np.array([item for sublist in X_train_list_of_lists for item in sublist])\n",
    "    X_train_mean = X_train.mean(axis=0)\n",
    "    X_train_std = X_train.std(axis=0)\n",
    "    X_train = (X_train - X_train_mean + eps)/(X_train_std + eps)\n",
    "    X_train = [row for row in X_train]\n",
    "    X_test = [row for row in (np.array(X_test) - X_train_mean + eps)/(X_train_std + eps)]\n",
    "    \n",
    "    y_test = np.array(y[j])\n",
    "    y_train_list_of_lists = [y[h] for h in range(k_folds) if h!=j]\n",
    "    y_train = [item for sublist in y_train_list_of_lists for item in sublist]\n",
    "    \n",
    "    print(j, '-th split', len(X_train), len(X_test), '\\n\\n')\n",
    "    \n",
    "    output.append([X_train, X_test, y_train, y_test])\n",
    "\n",
    "\n",
    "  return output"
   ]
  },
  {
   "cell_type": "code",
   "execution_count": 208,
   "metadata": {},
   "outputs": [
    {
     "name": "stdout",
     "output_type": "stream",
     "text": [
      "Loading completed\n",
      "\n",
      "Accuracy on train set: 0.8498487263328146\n",
      "\n",
      "Accuracy on test set: 0.7824830115946725\n"
     ]
    }
   ],
   "source": [
    "k_folds = 5\n",
    "\n",
    "cv_data = load_data_cv(combo, k_folds)\n",
    "\n",
    "print('Loading completed')\n",
    "\n",
    "train_acc = 0\n",
    "test_acc = 0\n",
    "\n",
    "for i in range(k_folds):\n",
    "\n",
    "    model = NearestCentroid()\n",
    "    model.fit(cv_data[i][0], cv_data[i][2])\n",
    "\n",
    "    predictions = model.predict(cv_data[i][1])\n",
    "\n",
    "    train_acc = train_acc + model.score(cv_data[i][0], cv_data[i][2])\n",
    "\n",
    "\n",
    "    test_acc = test_acc + model.score(cv_data[i][1], cv_data[i][3])\n",
    "    \n",
    "\n",
    "print(f\"\\nAccuracy on train set: {train_acc/k_folds}\")\n",
    "print(f\"\\nAccuracy on test set: {test_acc/k_folds}\")"
   ]
  },
  {
   "attachments": {},
   "cell_type": "markdown",
   "metadata": {},
   "source": [
    "The results are slighlty better than the ones achieved with a single split (train accuracy is about 1% lower and test accuracy is about 1% higher)"
   ]
  }
 ],
 "metadata": {
  "kernelspec": {
   "display_name": "DSIM",
   "language": "python",
   "name": "python3"
  },
  "language_info": {
   "codemirror_mode": {
    "name": "ipython",
    "version": 3
   },
   "file_extension": ".py",
   "mimetype": "text/x-python",
   "name": "python",
   "nbconvert_exporter": "python",
   "pygments_lexer": "ipython3",
   "version": "3.11.3"
  },
  "orig_nbformat": 4
 },
 "nbformat": 4,
 "nbformat_minor": 2
}
