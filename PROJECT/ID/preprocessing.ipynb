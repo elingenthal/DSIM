{
 "cells": [
  {
   "attachments": {},
   "cell_type": "markdown",
   "metadata": {},
   "source": [
    "This notebook created a 'data' folder into the current directory. Data-wise, I only uploaded the archive.zip folder to save space. To reproduce the results:\n",
    "1. Unzip the archive.zip folder externally (it must be in the same directory as the 'ID' folder, not in the 'ID' folder itself because it is also used for Verification)\n",
    "2. Run this notebook"
   ]
  },
  {
   "attachments": {},
   "cell_type": "markdown",
   "metadata": {},
   "source": [
    "**Importing libraries**:"
   ]
  },
  {
   "cell_type": "code",
   "execution_count": 5,
   "metadata": {},
   "outputs": [],
   "source": [
    "import os\n",
    "from scipy.io import wavfile as wav\n",
    "import shutil\n",
    "import matplotlib.pyplot as plt\n",
    "import numpy as np\n",
    "from pathlib import Path"
   ]
  },
  {
   "attachments": {},
   "cell_type": "markdown",
   "metadata": {},
   "source": [
    "Creating a new folder for ID data, \"data_ID\", copying all files from \"50_speakers_audio_data\" into it and setting path variable to the new folder:"
   ]
  },
  {
   "cell_type": "code",
   "execution_count": 6,
   "metadata": {},
   "outputs": [
    {
     "name": "stdout",
     "output_type": "stream",
     "text": [
      "c:\\Users\\Emili\\DSIM_project\\ID\\data\\\n"
     ]
    }
   ],
   "source": [
    "if not os.path.isdir(os.getcwd() + '\\\\data'):\n",
    "    shutil.copytree(str(Path(os.getcwd()).parent.absolute()) + '\\\\50_speakers_audio_data',\n",
    "                    os.getcwd() + '\\\\data')\n",
    "    \n",
    "path = os.getcwd() + '\\\\data\\\\'\n",
    "print(path)"
   ]
  },
  {
   "attachments": {},
   "cell_type": "markdown",
   "metadata": {},
   "source": [
    "## **Selecting tracks**"
   ]
  },
  {
   "attachments": {},
   "cell_type": "markdown",
   "metadata": {},
   "source": [
    "The data consists of 50 different speakers. For each speaker there's about 1 hour worth of audio signal, divided into 1 min segments. Since we feel that a classification task with that many classes would be too complex we're not gonna keep all of them. The code below removes all files with a format different from .wav and builds a dictionary of the sampling rates and prints the results"
   ]
  },
  {
   "cell_type": "code",
   "execution_count": 7,
   "metadata": {},
   "outputs": [
    {
     "name": "stdout",
     "output_type": "stream",
     "text": [
      "Removed speakers (different format):\n",
      " ['Speaker0035', 'Speaker0036', 'Speaker0043', 'Speaker0044', 'Speaker0048', 'Speaker0049', 'Speaker_0020']\n",
      "sampling rate 22050 -> 19 speakers\n",
      "sampling rate 16000 -> 24 speakers\n"
     ]
    }
   ],
   "source": [
    "sampling_rates = {}\n",
    "removed_speakers = []\n",
    "for speaker in os.listdir(path):\n",
    "  try:\n",
    "    sampling_rate, _ = wav.read(path + speaker + '/' + os.listdir(path + speaker)[0])\n",
    "    if sampling_rate not in sampling_rates.keys():\n",
    "      sampling_rates[sampling_rate] = [speaker]\n",
    "    else:\n",
    "      sampling_rates[sampling_rate].append(speaker)\n",
    "  except:\n",
    "    removed_speakers.append(speaker)\n",
    "    shutil.rmtree(path + speaker)\n",
    "\n",
    "print('Removed speakers (different format):\\n', removed_speakers)\n",
    "for sampling_rate in sampling_rates.keys():\n",
    "  print(f\"sampling rate {sampling_rate} -> {len(sampling_rates[sampling_rate])} speakers\")"
   ]
  },
  {
   "attachments": {},
   "cell_type": "markdown",
   "metadata": {},
   "source": [
    "Let's keep the data from users with only one type of sampling rate. We'll choose the most common one, which is 16000 Hz"
   ]
  },
  {
   "cell_type": "code",
   "execution_count": 8,
   "metadata": {},
   "outputs": [],
   "source": [
    "sampling_rate = 16000"
   ]
  },
  {
   "cell_type": "code",
   "execution_count": 9,
   "metadata": {},
   "outputs": [
    {
     "name": "stdout",
     "output_type": "stream",
     "text": [
      "Removed speakers (different sampling rate):\n",
      " ['Speaker0026', 'Speaker0027', 'Speaker0028', 'Speaker0029', 'Speaker0030', 'Speaker0031', 'Speaker0032', 'Speaker0033', 'Speaker0034', 'Speaker0037', 'Speaker0038', 'Speaker0039', 'Speaker0040', 'Speaker0041', 'Speaker0042', 'Speaker0045', 'Speaker0046', 'Speaker0047', 'Speaker0050']\n"
     ]
    }
   ],
   "source": [
    "removed_speakers = []\n",
    "for speaker in os.listdir(path):\n",
    "    if speaker not in sampling_rates[sampling_rate]:\n",
    "        shutil.rmtree(path + speaker)\n",
    "        removed_speakers.append(speaker)\n",
    "        \n",
    "print('Removed speakers (different sampling rate):\\n', removed_speakers)"
   ]
  },
  {
   "attachments": {},
   "cell_type": "markdown",
   "metadata": {},
   "source": [
    "Our goal is to create a balanced dataset (same number of samples for each class). Let's see how many samples we have for each class. We'll find which class has the minimum amout of tracks and use that number as the number of samples for each class"
   ]
  },
  {
   "cell_type": "code",
   "execution_count": 10,
   "metadata": {},
   "outputs": [
    {
     "name": "stdout",
     "output_type": "stream",
     "text": [
      "Minimum tracks: 33\n",
      "Maximum tracks: 120\n"
     ]
    }
   ],
   "source": [
    "min_tracks = float('inf')\n",
    "max_tracks = 0\n",
    "\n",
    "for speaker in os.listdir(path):\n",
    "  if len(os.listdir(path + speaker)) < min_tracks:\n",
    "    min_tracks = len(os.listdir(path + speaker))\n",
    "\n",
    "  if len(os.listdir(path + speaker)) > max_tracks:\n",
    "    max_tracks = len(os.listdir(path + speaker))\n",
    "\n",
    "print('Minimum tracks:', min_tracks)\n",
    "print('Maximum tracks:', max_tracks)"
   ]
  },
  {
   "attachments": {},
   "cell_type": "markdown",
   "metadata": {},
   "source": [
    "Let's make sure that, after selecting the same number of tracks, we have about the same amount of audio for each class"
   ]
  },
  {
   "cell_type": "code",
   "execution_count": 11,
   "metadata": {},
   "outputs": [
    {
     "name": "stdout",
     "output_type": "stream",
     "text": [
      "{'Speaker_0000': 1980.0319999999992, 'Speaker_0001': 1980.0319999999992, 'Speaker_0002': 1980.0319999999992, 'Speaker_0003': 1980.0319999999992, 'Speaker_0004': 1980.0319999999992, 'Speaker_0005': 1980.0319999999992, 'Speaker_0006': 1980.0319999999992, 'Speaker_0007': 1980.0319999999992, 'Speaker_0008': 1980.0319999999992, 'Speaker_0009': 1980.0319999999992, 'Speaker_0010': 1979.1866875000014, 'Speaker_0011': 1979.1866875000014, 'Speaker_0012': 1979.1605625000013, 'Speaker_0013': 1979.1866875000014, 'Speaker_0014': 1979.1866875000014, 'Speaker_0015': 1979.1866875000014, 'Speaker_0016': 1979.1866875000014, 'Speaker_0017': 1979.1866875000014, 'Speaker_0018': 1979.1866875000014, 'Speaker_0019': 1967.8706250000014, 'Speaker_0021': 1979.1866875000014, 'Speaker_0023': 1979.1866875000014, 'Speaker_0024': 1979.1866875000014, 'Speaker_0025': 1979.1866875000014}\n"
     ]
    }
   ],
   "source": [
    "duration_dict = {}\n",
    "for speaker in os.listdir(path):\n",
    "  audio_seconds = 0\n",
    "  for track in os.listdir(path + speaker)[:min_tracks]:\n",
    "    _, sound_data = wav.read(path + speaker + '/' + track)\n",
    "    audio_seconds = audio_seconds + sound_data.shape[0]/sampling_rate\n",
    "  duration_dict[speaker] = audio_seconds\n",
    "  \n",
    "print(duration_dict)"
   ]
  },
  {
   "attachments": {},
   "cell_type": "markdown",
   "metadata": {},
   "source": [
    "As we can see, each speaker contains roughly 1980 seconds (33 minutes) of audio. We can proceed to keep in the dataset only the first 33 tracks for each speaker in the dataset"
   ]
  },
  {
   "cell_type": "code",
   "execution_count": 12,
   "metadata": {},
   "outputs": [
    {
     "name": "stdout",
     "output_type": "stream",
     "text": [
      "732 tracks removed:\n"
     ]
    }
   ],
   "source": [
    "removed_tracks = []\n",
    "for speaker in os.listdir(path):\n",
    "  track_num = 0\n",
    "  for track in os.listdir(path + speaker):\n",
    "    track_num = track_num + 1    \n",
    "    if track_num > min_tracks:\n",
    "      os.remove(path + speaker + '/' + track)\n",
    "      removed_tracks.append(track)\n",
    "\n",
    "print(f'{len(removed_tracks)} tracks removed:')"
   ]
  },
  {
   "attachments": {},
   "cell_type": "markdown",
   "metadata": {},
   "source": [
    "Now let's rename speakers and tracks in a consistent way:"
   ]
  },
  {
   "cell_type": "code",
   "execution_count": 13,
   "metadata": {},
   "outputs": [],
   "source": [
    "speaker_num = 0\n",
    "for speaker in os.listdir(path):\n",
    "  speaker_num = speaker_num + 1\n",
    "  os.rename(path + speaker, path + f\"speaker_{str(speaker_num)}\")"
   ]
  },
  {
   "cell_type": "code",
   "execution_count": 14,
   "metadata": {},
   "outputs": [],
   "source": [
    "for speaker in os.listdir(path):\n",
    "  track_num = 0\n",
    "  for track in os.listdir(path + speaker):\n",
    "    track_num = track_num + 1\n",
    "    os.rename(path + speaker + '/' + track, path + speaker + '/' + f'track_{str(track_num)}.wav')"
   ]
  },
  {
   "attachments": {},
   "cell_type": "markdown",
   "metadata": {},
   "source": [
    "## **Segmenting tracks**"
   ]
  },
  {
   "attachments": {},
   "cell_type": "markdown",
   "metadata": {},
   "source": [
    "IDEA: divide each track into 5 second segments and save them in a new folder.\n",
    "Let's see how short would the last segments be if we do that. We can fix the short segments by adding zeros at the end, but if all final segments are really short maybe it would be better to pick a different segmentation length"
   ]
  },
  {
   "cell_type": "code",
   "execution_count": 15,
   "metadata": {},
   "outputs": [],
   "source": [
    "track_lengths = []\n",
    "for speaker in os.listdir(path):\n",
    "  for track in os.listdir(path + speaker):\n",
    "    _, sound_data = wav.read(path + speaker + '/' + track)\n",
    "    track_lengths.append((sound_data.shape[0]/sampling_rate))"
   ]
  },
  {
   "cell_type": "code",
   "execution_count": 16,
   "metadata": {},
   "outputs": [
    {
     "data": {
      "text/plain": [
       "Text(0.5, 0, 'final 5 sec segment length')"
      ]
     },
     "execution_count": 16,
     "metadata": {},
     "output_type": "execute_result"
    },
    {
     "data": {
      "image/png": "[encoded data removed]",
      "text/plain": [
       "<Figure size 640x480 with 1 Axes>"
      ]
     },
     "metadata": {},
     "output_type": "display_data"
    }
   ],
   "source": [
    "plt.hist(track_lengths, range=(58.5, 60.5), bins=20)\n",
    "plt.ylabel('number of tracks')\n",
    "plt.xlabel('final 5 sec segment length')"
   ]
  },
  {
   "attachments": {},
   "cell_type": "markdown",
   "metadata": {},
   "source": [
    "Looks like there are some segments just few milliseconds longer than 60 seconds. To avoid having a segments having just a few milliseconds worth of signal we are gonna stop after 60 seconds and discard the rest of the track. Let's see how's the final segment length if we cut every 5 seconds after this consideration:"
   ]
  },
  {
   "cell_type": "code",
   "execution_count": 17,
   "metadata": {},
   "outputs": [],
   "source": [
    "final_segment_lengths_under60 = []\n",
    "for speaker in os.listdir(path):\n",
    "  for track in os.listdir(path + speaker):\n",
    "    _, sound_data = wav.read(path + speaker + '/' + track)\n",
    "    if sound_data.shape[0]/sampling_rate <= 60: \n",
    "      final_segment_lengths_under60.append((sound_data.shape[0]/sampling_rate)%5)"
   ]
  },
  {
   "cell_type": "code",
   "execution_count": 18,
   "metadata": {},
   "outputs": [
    {
     "data": {
      "text/plain": [
       "Text(0.5, 0, 'final 5 sec segment length')"
      ]
     },
     "execution_count": 18,
     "metadata": {},
     "output_type": "execute_result"
    },
    {
     "data": {
      "image/png": "[encoded data removed]",
      "text/plain": [
       "<Figure size 640x480 with 1 Axes>"
      ]
     },
     "metadata": {},
     "output_type": "display_data"
    }
   ],
   "source": [
    "plt.hist(final_segment_lengths_under60)\n",
    "plt.ylabel('number of tracks')\n",
    "plt.xlabel('final 5 sec segment length')"
   ]
  },
  {
   "attachments": {},
   "cell_type": "markdown",
   "metadata": {},
   "source": [
    "Considering only segments <= 60 sec we can see that there's only a very small number of final segments between under 4.8 seconds (and all are above 3.6 seconds, which is 72% of a 5 second segment), so this 5-sec segmentation gives us no issues (even if they were all belonging to the same speaker, the dataset would still be balanced)."
   ]
  },
  {
   "attachments": {},
   "cell_type": "markdown",
   "metadata": {},
   "source": [
    "Let's define the function that adds zeros at the end of the signal to make it 5 seconds long for the few final instances that would be shorter than 5 seconds (it's important that all tracks have the same length becuase we don't the classifier to learn to distinguish between speakers based on the length of the signal)"
   ]
  },
  {
   "cell_type": "code",
   "execution_count": 19,
   "metadata": {},
   "outputs": [],
   "source": [
    "def feats_temporal(input, size):\n",
    "    output = np.concatenate((input, np.zeros(size-input.shape[0])))\n",
    "    return output"
   ]
  },
  {
   "attachments": {},
   "cell_type": "markdown",
   "metadata": {},
   "source": [
    "Now, for each speaker, let's replace the 1 min long tracks with 5 sec long segments"
   ]
  },
  {
   "cell_type": "code",
   "execution_count": 20,
   "metadata": {},
   "outputs": [],
   "source": [
    "for speaker in os.listdir(path):\n",
    "  track_num = 0\n",
    "  for track in os.listdir(path + speaker):\n",
    "    track_num = track_num + 1\n",
    "\n",
    "    # Getting the 1 minute long track to segment:\n",
    "    _, sound_data = wav.read(path + speaker + '/' + track)\n",
    "    \n",
    "    # Creating the list of 5 sec segments:\n",
    "    sound_segments = [sound_data[i * sampling_rate: (i+5) * sampling_rate] for i in range(0,60,5)]\n",
    "\n",
    "    # In case the track is less than 55 seconds long (we don't want empty segments)\n",
    "    sound_segments = [sound_segment for sound_segment in sound_segments if len(sound_segment)!=0]\n",
    "    \n",
    "    # Removing the 1 min long track\n",
    "    os.remove(path + speaker + '/' + track)\n",
    "\n",
    "    # Converting them to wav files and saving them into the new path\n",
    "    segment_num = 0\n",
    "    for sound_segment in sound_segments:\n",
    "      segment_num = segment_num + 1\n",
    "      # Adding zeros if shorter than 5 sec\n",
    "      sound_segment = feats_temporal(input = sound_segment, size = sampling_rate*5)\n",
    "      # Saving the segment\n",
    "      wav.write(path + speaker + '/' + f\"track{track_num}_segment{segment_num}.wav\",\n",
    "                sampling_rate, sound_segment)"
   ]
  },
  {
   "attachments": {},
   "cell_type": "markdown",
   "metadata": {},
   "source": [
    "Let's check one last time if the dataset is balanced, this time looking at the new number of tracks for each user:"
   ]
  },
  {
   "cell_type": "code",
   "execution_count": 21,
   "metadata": {},
   "outputs": [
    {
     "name": "stdout",
     "output_type": "stream",
     "text": [
      "396\n",
      "396\n",
      "396\n",
      "396\n",
      "396\n",
      "396\n",
      "396\n",
      "396\n",
      "396\n",
      "396\n",
      "396\n",
      "396\n",
      "394\n",
      "396\n",
      "396\n",
      "396\n",
      "396\n",
      "396\n",
      "396\n",
      "396\n",
      "396\n",
      "396\n",
      "396\n",
      "396\n"
     ]
    }
   ],
   "source": [
    "for speaker in os.listdir(path):\n",
    "  print(len(os.listdir(path + speaker)))"
   ]
  },
  {
   "attachments": {},
   "cell_type": "markdown",
   "metadata": {},
   "source": [
    "As we can see almost every speaker (class) has 396 instances (the\n",
    "only one that has less tracks has 394 of them), so the dataset is really balanced"
   ]
  }
 ],
 "metadata": {
  "kernelspec": {
   "display_name": "DSIM",
   "language": "python",
   "name": "python3"
  },
  "language_info": {
   "codemirror_mode": {
    "name": "ipython",
    "version": 3
   },
   "file_extension": ".py",
   "mimetype": "text/x-python",
   "name": "python",
   "nbconvert_exporter": "python",
   "pygments_lexer": "ipython3",
   "version": "3.11.3"
  },
  "orig_nbformat": 4
 },
 "nbformat": 4,
 "nbformat_minor": 2
}
