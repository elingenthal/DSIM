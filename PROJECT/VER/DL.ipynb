{
 "cells": [
  {
   "attachments": {},
   "cell_type": "markdown",
   "metadata": {},
   "source": [
    "In this file we will use a Neural Network to classify speakers. We will use a RNN with the melspectrogam coefficients feature, that proved to be effective in the machine learning section and is better suited than the melspec feature because the images are smaller and the computational time will be shorter. This time we wont flatten the spectogram because we want to mantain the temporal aspect of the feature"
   ]
  },
  {
   "attachments": {},
   "cell_type": "markdown",
   "metadata": {},
   "source": [
    "**Importing libraries**"
   ]
  },
  {
   "cell_type": "code",
   "execution_count": 1,
   "metadata": {},
   "outputs": [],
   "source": [
    "import os\n",
    "import pandas as pd\n",
    "import random\n",
    "import numpy as np\n",
    "import matplotlib.pyplot as plt\n",
    "\n",
    "from scipy.io import wavfile as wav\n",
    "from librosa.feature import melspectrogram, mfcc\n",
    "\n",
    "# Had to use pip install tensorflow\n",
    "from tensorflow import keras\n",
    "from tensorflow.keras.models import load_model\n",
    "\n",
    "import re\n",
    "\n",
    "from sklearn.metrics import classification_report, confusion_matrix, ConfusionMatrixDisplay\n",
    "from scikitplot.metrics import plot_confusion_matrix \n"
   ]
  },
  {
   "attachments": {},
   "cell_type": "markdown",
   "metadata": {},
   "source": [
    "Setting path variable:"
   ]
  },
  {
   "cell_type": "code",
   "execution_count": 2,
   "metadata": {},
   "outputs": [
    {
     "name": "stdout",
     "output_type": "stream",
     "text": [
      "c:\\Users\\Emili\\DSIM_project\\VER\\data\\\n"
     ]
    }
   ],
   "source": [
    "path = os.getcwd() + '\\\\data\\\\'\n",
    "print(path)"
   ]
  },
  {
   "attachments": {},
   "cell_type": "markdown",
   "metadata": {},
   "source": [
    "### **Loading data**"
   ]
  },
  {
   "cell_type": "code",
   "execution_count": 3,
   "metadata": {},
   "outputs": [],
   "source": [
    "def load_data(feature_extractor, train_size=0.8):\n",
    "  \n",
    "  # Note: train size must be 0.8 (see preprocessing.ipynb)\n",
    "  train = []\n",
    "  X_train = []\n",
    "  y_train = []\n",
    "\n",
    "  test = []\n",
    "  X_test = []\n",
    "  y_test = []\n",
    "  \n",
    "  unauth_split = train_size/(23-22*train_size)\n",
    "\n",
    "  random.seed(10) # For reproducibility\n",
    "\n",
    "  \n",
    "  # Authorized speaker\n",
    "  track_num = 0\n",
    "  tracks = os.listdir(path + 'auth_speaker')\n",
    "  random.shuffle(tracks)\n",
    "  for track in tracks:\n",
    "    track_num = track_num + 1\n",
    "    _, signal = wav.read(path + 'auth_speaker\\\\' + track)\n",
    "    if track_num <=np.floor(train_size*len(tracks)):\n",
    "      train.append((feature_extractor(signal), np.int32(0)))\n",
    "    else:\n",
    "        test.append((feature_extractor(signal), np.int32(0)))\n",
    "        \n",
    "  # Impostor speaker\n",
    "  for speaker in os.listdir(path + 'unauth_speakers'):\n",
    "    track_num = 0\n",
    "    tracks = os.listdir(path + 'unauth_speakers\\\\' + speaker)\n",
    "    random.shuffle(tracks)\n",
    "    for track in tracks:\n",
    "      track_num = track_num + 1\n",
    "      _, signal = wav.read(path + 'unauth_speakers\\\\' + speaker + '\\\\' + track)\n",
    "      if track_num <=np.floor(unauth_split*len(tracks)):\n",
    "        train.append((feature_extractor(signal), np.int32(1)))\n",
    "      else:\n",
    "        test.append((feature_extractor(signal), np.int32(1)))\n",
    "          \n",
    "  random.shuffle(train)\n",
    "  random.shuffle(test)\n",
    "  \n",
    "  # Separate features and labels\n",
    "  X_train = [row[0] for row in train]\n",
    "  y_train = np.array([row[1] for row in train])\n",
    "  X_test = [row[0] for row in test]\n",
    "  y_test = np.array([row[1] for row in test])\n",
    "\n",
    "\n",
    "  # Normalize          \n",
    "  eps = 0.001\n",
    "  X_train = np.array(X_train)\n",
    "  X_train_mean = X_train.mean(axis=0)\n",
    "  X_train_std = X_train.std(axis=0)\n",
    "  X_train = (X_train - X_train_mean + eps)/(X_train_std + eps)\n",
    "  X_train = [row for row in X_train]\n",
    "  X_train = np.array(X_train)\n",
    "  X_test = [row for row in (np.array(X_test) - X_train_mean + eps)/(X_train_std + eps)]\n",
    "  X_test = np.array(X_test)\n",
    "\n",
    "  return X_train, X_test, y_train, y_test\n",
    "\n",
    "\n",
    "def feats_mfcc(input, rate = 8000):\n",
    "  input = mfcc(y = input*1.0, sr = rate)\n",
    "  output = np.transpose(input)\n",
    "  return output"
   ]
  },
  {
   "cell_type": "code",
   "execution_count": 4,
   "metadata": {},
   "outputs": [],
   "source": [
    "X_train, X_test, y_train, y_test = load_data(feature_extractor=feats_mfcc, train_size=0.8)"
   ]
  },
  {
   "attachments": {},
   "cell_type": "markdown",
   "metadata": {},
   "source": [
    "### **Gate Recurrent Unit (GRU) Neural Network**"
   ]
  },
  {
   "attachments": {},
   "cell_type": "markdown",
   "metadata": {},
   "source": [
    "Just one layer of GRU, followed by a dense layer with softmax activation was enough to get great performances on the test set thanks to the abundance of data"
   ]
  },
  {
   "cell_type": "code",
   "execution_count": 5,
   "metadata": {},
   "outputs": [],
   "source": [
    "features_input = keras.Input((157, 20), batch_size=64)\n",
    "x = keras.layers.GRU(16, return_sequences=False, dropout=0.2)(features_input)\n",
    "output = keras.layers.Dense(2, activation='softmax')(x)\n",
    "net = keras.Model(features_input, output)"
   ]
  },
  {
   "cell_type": "code",
   "execution_count": 6,
   "metadata": {},
   "outputs": [
    {
     "name": "stdout",
     "output_type": "stream",
     "text": [
      "Model: \"model\"\n",
      "_________________________________________________________________\n",
      " Layer (type)                Output Shape              Param #   \n",
      "=================================================================\n",
      " input_1 (InputLayer)        [(64, 157, 20)]           0         \n",
      "                                                                 \n",
      " gru (GRU)                   (64, 16)                  1824      \n",
      "                                                                 \n",
      " dense (Dense)               (64, 2)                   34        \n",
      "                                                                 \n",
      "=================================================================\n",
      "Total params: 1,858\n",
      "Trainable params: 1,858\n",
      "Non-trainable params: 0\n",
      "_________________________________________________________________\n"
     ]
    }
   ],
   "source": [
    "net.summary()"
   ]
  },
  {
   "cell_type": "code",
   "execution_count": 7,
   "metadata": {},
   "outputs": [],
   "source": [
    "net.compile(loss='sparse_categorical_crossentropy', optimizer='rmsprop',\n",
    "            metrics=['accuracy'])"
   ]
  },
  {
   "cell_type": "code",
   "execution_count": 8,
   "metadata": {},
   "outputs": [],
   "source": [
    "callback = keras.callbacks.EarlyStopping(\n",
    "    monitor=\"val_accuracy\",\n",
    "    min_delta=0.01,\n",
    "    patience=10,\n",
    "    baseline=None,\n",
    "    restore_best_weights=True,\n",
    ")"
   ]
  },
  {
   "cell_type": "code",
   "execution_count": 9,
   "metadata": {},
   "outputs": [
    {
     "name": "stdout",
     "output_type": "stream",
     "text": [
      "Epoch 1/30\n",
      "71/71 [==============================] - 7s 74ms/step - loss: 0.6931 - accuracy: 0.5743 - val_loss: 0.6025 - val_accuracy: 0.6699\n",
      "Epoch 2/30\n",
      "71/71 [==============================] - 6s 90ms/step - loss: 0.5166 - accuracy: 0.7497 - val_loss: 0.4930 - val_accuracy: 0.7584\n",
      "Epoch 3/30\n",
      "71/71 [==============================] - 8s 115ms/step - loss: 0.4293 - accuracy: 0.7990 - val_loss: 0.4278 - val_accuracy: 0.8004\n",
      "Epoch 4/30\n",
      "71/71 [==============================] - 9s 128ms/step - loss: 0.3384 - accuracy: 0.8480 - val_loss: 0.3488 - val_accuracy: 0.8600\n",
      "Epoch 5/30\n",
      "71/71 [==============================] - 8s 115ms/step - loss: 0.2458 - accuracy: 0.9039 - val_loss: 0.3107 - val_accuracy: 0.8971\n",
      "Epoch 6/30\n",
      "71/71 [==============================] - 8s 119ms/step - loss: 0.1660 - accuracy: 0.9462 - val_loss: 0.2258 - val_accuracy: 0.9362\n",
      "Epoch 7/30\n",
      "71/71 [==============================] - 8s 107ms/step - loss: 0.1256 - accuracy: 0.9669 - val_loss: 0.1894 - val_accuracy: 0.9483\n",
      "Epoch 8/30\n",
      "71/71 [==============================] - 8s 116ms/step - loss: 0.1091 - accuracy: 0.9718 - val_loss: 0.1755 - val_accuracy: 0.9524\n",
      "Epoch 9/30\n",
      "71/71 [==============================] - 5s 76ms/step - loss: 0.1055 - accuracy: 0.9722 - val_loss: 0.1803 - val_accuracy: 0.9499\n",
      "Epoch 10/30\n",
      "71/71 [==============================] - 4s 61ms/step - loss: 0.0998 - accuracy: 0.9736 - val_loss: 0.1733 - val_accuracy: 0.9505\n",
      "Epoch 11/30\n",
      "71/71 [==============================] - 4s 59ms/step - loss: 0.0943 - accuracy: 0.9762 - val_loss: 0.1616 - val_accuracy: 0.9532\n",
      "Epoch 12/30\n",
      "71/71 [==============================] - 4s 59ms/step - loss: 0.0943 - accuracy: 0.9758 - val_loss: 0.1706 - val_accuracy: 0.9502\n",
      "Epoch 13/30\n",
      "71/71 [==============================] - 4s 61ms/step - loss: 0.0889 - accuracy: 0.9771 - val_loss: 0.1656 - val_accuracy: 0.9537\n",
      "Epoch 14/30\n",
      "71/71 [==============================] - 4s 58ms/step - loss: 0.0941 - accuracy: 0.9749 - val_loss: 0.1728 - val_accuracy: 0.9506\n",
      "Epoch 15/30\n",
      "71/71 [==============================] - 4s 61ms/step - loss: 0.0920 - accuracy: 0.9762 - val_loss: 0.1692 - val_accuracy: 0.9512\n",
      "Epoch 16/30\n",
      "71/71 [==============================] - 4s 64ms/step - loss: 0.0921 - accuracy: 0.9762 - val_loss: 0.1646 - val_accuracy: 0.9525\n",
      "Epoch 17/30\n",
      "71/71 [==============================] - 4s 64ms/step - loss: 0.0914 - accuracy: 0.9753 - val_loss: 0.1655 - val_accuracy: 0.9544\n"
     ]
    }
   ],
   "source": [
    "# Train model\n",
    "history = net.fit(\n",
    "    X_train,\n",
    "    y_train,\n",
    "    validation_data=(X_test, y_test),\n",
    "    epochs=30,\n",
    "    callbacks = [callback]\n",
    ")"
   ]
  },
  {
   "cell_type": "code",
   "execution_count": 10,
   "metadata": {},
   "outputs": [
    {
     "data": {
      "image/png": "[encoded data removed]",
      "text/plain": [
       "<Figure size 1200x400 with 2 Axes>"
      ]
     },
     "metadata": {},
     "output_type": "display_data"
    }
   ],
   "source": [
    "# Visualization of the learning curves\n",
    "# Loss\n",
    "plt.figure(figsize=(12, 4))\n",
    "plt.subplot(1, 2, 1)\n",
    "plt.plot(history.history['loss'])\n",
    "plt.plot(history.history['val_loss'])\n",
    "plt.xlabel('Epoch')\n",
    "plt.ylabel('Loss')\n",
    "plt.legend(['train', 'test'])\n",
    "plt.xticks(np.arange(0, len(history.history['loss']), 2),\n",
    "           np.arange(0, len(history.history['loss']), 2, dtype=int))\n",
    "plt.title('Loss')\n",
    "\n",
    "# Accuracy\n",
    "plt.subplot(1, 2, 2)\n",
    "plt.plot(history.history['accuracy'])\n",
    "plt.plot(history.history['val_accuracy'])\n",
    "plt.xlabel('Epoch')\n",
    "plt.ylabel('Accuracy')\n",
    "plt.legend(['train', 'test'])\n",
    "plt.title('Accuracy')\n",
    "plt.yticks(np.arange(0, 1.1, 0.1))  # Set y-axis tick marks from 0 to 1 with a step of 0.1\n",
    "plt.xticks(np.arange(0, len(history.history['accuracy']), 2),\n",
    "           np.arange(0, len(history.history['accuracy']), 2, dtype=int))\n",
    "\n",
    "plt.tight_layout()\n",
    "plt.show()"
   ]
  },
  {
   "cell_type": "code",
   "execution_count": 12,
   "metadata": {},
   "outputs": [],
   "source": [
    "def get_classification_report(y_test, y_pred):\n",
    "\n",
    "    report = classification_report(y_test, y_pred, output_dict=True)\n",
    "    df_classification_report = pd.DataFrame(report).transpose()\n",
    "    df_classification_report = df_classification_report.round(3)\n",
    "    df_classification_report = df_classification_report.drop(['weighted avg'])\n",
    "    df_classification_report['support'] = df_classification_report['support'].astype(int)\n",
    "    df_classification_report['accuracy'] = np.nan\n",
    "    df_classification_report = df_classification_report[['accuracy', 'precision', 'recall', 'f1-score', 'support']]\n",
    "    df_classification_report['accuracy']['macro avg']= df_classification_report['precision']['accuracy']\n",
    "    df_classification_report = df_classification_report.drop(['accuracy'], axis=0)\n",
    "    df_classification_report.rename({'macro avg': 'average'}, axis=0, inplace=True)\n",
    "    df_classification_report.rename(index={'0': 'authorized', '1': 'impostor'}, inplace=True)\n",
    "    return df_classification_report"
   ]
  },
  {
   "cell_type": "code",
   "execution_count": 13,
   "metadata": {},
   "outputs": [
    {
     "name": "stdout",
     "output_type": "stream",
     "text": [
      "215/215 [==============================] - 2s 9ms/step\n",
      "\n",
      "Classification report for GRU (test set):\n"
     ]
    },
    {
     "data": {
      "text/html": [
       "<div>\n",
       "<style scoped>\n",
       "    .dataframe tbody tr th:only-of-type {\n",
       "        vertical-align: middle;\n",
       "    }\n",
       "\n",
       "    .dataframe tbody tr th {\n",
       "        vertical-align: top;\n",
       "    }\n",
       "\n",
       "    .dataframe thead th {\n",
       "        text-align: right;\n",
       "    }\n",
       "</style>\n",
       "<table border=\"1\" class=\"dataframe\">\n",
       "  <thead>\n",
       "    <tr style=\"text-align: right;\">\n",
       "      <th></th>\n",
       "      <th>accuracy</th>\n",
       "      <th>precision</th>\n",
       "      <th>recall</th>\n",
       "      <th>f1-score</th>\n",
       "      <th>support</th>\n",
       "    </tr>\n",
       "  </thead>\n",
       "  <tbody>\n",
       "    <tr>\n",
       "      <th>authorized</th>\n",
       "      <td>NaN</td>\n",
       "      <td>0.446</td>\n",
       "      <td>0.990</td>\n",
       "      <td>0.615</td>\n",
       "      <td>286</td>\n",
       "    </tr>\n",
       "    <tr>\n",
       "      <th>impostor</th>\n",
       "      <td>NaN</td>\n",
       "      <td>1.000</td>\n",
       "      <td>0.946</td>\n",
       "      <td>0.972</td>\n",
       "      <td>6578</td>\n",
       "    </tr>\n",
       "    <tr>\n",
       "      <th>average</th>\n",
       "      <td>0.948</td>\n",
       "      <td>0.723</td>\n",
       "      <td>0.968</td>\n",
       "      <td>0.793</td>\n",
       "      <td>6864</td>\n",
       "    </tr>\n",
       "  </tbody>\n",
       "</table>\n",
       "</div>"
      ],
      "text/plain": [
       "            accuracy  precision  recall  f1-score  support\n",
       "authorized       NaN      0.446   0.990     0.615      286\n",
       "impostor         NaN      1.000   0.946     0.972     6578\n",
       "average        0.948      0.723   0.968     0.793     6864"
      ]
     },
     "execution_count": 13,
     "metadata": {},
     "output_type": "execute_result"
    }
   ],
   "source": [
    "\n",
    "yc_pred = net.predict(X_test)\n",
    "y_pred = np.argmax(yc_pred, axis=1)\n",
    "classification_report_gru = get_classification_report(y_test, y_pred)\n",
    "print('\\nClassification report for GRU (test set):')\n",
    "classification_report_gru"
   ]
  },
  {
   "attachments": {},
   "cell_type": "markdown",
   "metadata": {},
   "source": [
    "Really similar results to the KNN performances"
   ]
  },
  {
   "cell_type": "code",
   "execution_count": 14,
   "metadata": {},
   "outputs": [
    {
     "data": {
      "image/png": "[encoded data removed]",
      "text/plain": [
       "<Figure size 640x480 with 2 Axes>"
      ]
     },
     "metadata": {},
     "output_type": "display_data"
    }
   ],
   "source": [
    "label_names = ['Authorized', 'Impostor']\n",
    "\n",
    "cm = confusion_matrix(y_test, y_pred)\n",
    " \n",
    "ConfusionMatrixDisplay(cm, display_labels=label_names).plot(values_format='d',\n",
    "                                                            cmap=plt.cm.Blues);"
   ]
  },
  {
   "attachments": {},
   "cell_type": "markdown",
   "metadata": {},
   "source": [
    "This model is just slighlty worse than the KNN because it has more unauthorized users classified as authorized"
   ]
  },
  {
   "cell_type": "code",
   "execution_count": 234,
   "metadata": {},
   "outputs": [],
   "source": [
    "classification_report_gru.to_csv(os.getcwd() + '\\\\GRU_performances.csv',\n",
    "                                index = True)"
   ]
  },
  {
   "cell_type": "code",
   "execution_count": 180,
   "metadata": {},
   "outputs": [],
   "source": [
    "net.save('GRU_VER.h5')\n"
   ]
  }
 ],
 "metadata": {
  "kernelspec": {
   "display_name": "DSIM",
   "language": "python",
   "name": "python3"
  },
  "language_info": {
   "codemirror_mode": {
    "name": "ipython",
    "version": 3
   },
   "file_extension": ".py",
   "mimetype": "text/x-python",
   "name": "python",
   "nbconvert_exporter": "python",
   "pygments_lexer": "ipython3",
   "version": "3.11.3"
  },
  "orig_nbformat": 4
 },
 "nbformat": 4,
 "nbformat_minor": 2
}
